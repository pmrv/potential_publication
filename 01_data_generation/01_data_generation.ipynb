{
 "cells": [
  {
   "cell_type": "markdown",
   "id": "8ace5008-c58b-41ba-ab67-9a6ab3b0ce20",
   "metadata": {},
   "source": [
    "# Data-set generation"
   ]
  },
  {
   "cell_type": "markdown",
   "id": "da0c6f59-4f7d-4597-ab04-ea848048edc3",
   "metadata": {},
   "source": [
    "In this notebook, the strategies to generate data set are shown. The generated structures are then collected into `StructureStorage` and prepared for Training the interatomic potential."
   ]
  },
  {
   "cell_type": "code",
   "execution_count": 1,
   "id": "795867d7-05b4-415f-8bce-28d50e7ffd41",
   "metadata": {},
   "outputs": [],
   "source": [
    "%config IPCompleter.evaluation='unsafe'"
   ]
  },
  {
   "cell_type": "code",
   "execution_count": 2,
   "id": "06253a1b-d16b-4416-970f-11e663bd1282",
   "metadata": {},
   "outputs": [
    {
     "name": "stderr",
     "output_type": "stream",
     "text": [
      "/home/menon/miniconda3/envs/potentials_v0.0.2/lib/python3.11/site-packages/numpy/core/getlimits.py:542: UserWarning: Signature b'\\x00\\xd0\\xcc\\xcc\\xcc\\xcc\\xcc\\xcc\\xfb\\xbf\\x00\\x00\\x00\\x00\\x00\\x00' for <class 'numpy.longdouble'> does not match any known type: falling back to type probe function.\n",
      "This warnings indicates broken support for the dtype!\n",
      "  machar = _get_machar(dtype)\n",
      "2024-03-28 13:16:19,387 - pyiron_log - WARNING - pyiron found a 'templates' folder in the /home/menon/pyiron/resources resource directory. These are no longer supported in pyiron_base >=0.7.0. They are replaced by Project.create_job_class() and Project.wrap_python_function().\n"
     ]
    },
    {
     "data": {
      "application/vnd.jupyter.widget-view+json": {
       "model_id": "0ce08ef32f69470881018ad8523cc210",
       "version_major": 2,
       "version_minor": 0
      },
      "text/plain": []
     },
     "metadata": {},
     "output_type": "display_data"
    }
   ],
   "source": [
    "from pyiron import Project\n",
    "import numpy as np"
   ]
  },
  {
   "cell_type": "markdown",
   "id": "f2b5af76-45e9-4193-b676-fec27b88152f",
   "metadata": {},
   "source": [
    "We start by creating a project"
   ]
  },
  {
   "cell_type": "code",
   "execution_count": 3,
   "id": "e5075d94-3640-4f37-a92c-f494086cb640",
   "metadata": {},
   "outputs": [],
   "source": [
    "pr = Project('dataset_generation_1')"
   ]
  },
  {
   "cell_type": "markdown",
   "id": "b168ec79-5a9a-4185-a623-d05676fe0870",
   "metadata": {},
   "source": [
    "Pyiron also provides a structure storage, which is also imported"
   ]
  },
  {
   "cell_type": "code",
   "execution_count": 4,
   "id": "5c75b8a9-2f1f-4461-af2f-0df45d068319",
   "metadata": {},
   "outputs": [],
   "source": [
    "from pyiron_atomistics.atomistics.structure.structurestorage import StructureStorage"
   ]
  },
  {
   "cell_type": "markdown",
   "id": "84c087e8-f314-4d1d-89f9-b50d9dfd2e7d",
   "metadata": {},
   "source": [
    "## Generating bulk structures"
   ]
  },
  {
   "cell_type": "markdown",
   "id": "97c5850a-c69e-435f-9171-ea7430439ecf",
   "metadata": {},
   "source": [
    "One of the strategies employed is to generate bulk structure of both Al and Li, in fcc, bcc, and hcp structures. These structures are then fully relaxed, and stored for ML fitting. Here, we will show the example of fcc Al."
   ]
  },
  {
   "cell_type": "code",
   "execution_count": 5,
   "id": "fcc97981-460a-49ec-8d83-23261a267a3a",
   "metadata": {},
   "outputs": [],
   "source": [
    "Al = pr.create.structure.bulk('Al', cubic=True, a=4.04)"
   ]
  },
  {
   "cell_type": "markdown",
   "id": "218f0b10-bad3-4d46-b2bf-b000e0bd2929",
   "metadata": {},
   "source": [
    "For more details on generating and manipulating structures, please have a look at our [structures example](https://pyiron.readthedocs.io/en/latest/source/notebooks/structures.html). In this section however, we show how to generate and manipulate bulk crystals, surfaces, etc. pyiron's structure class is derived from the popular [`ase` package](https://wiki.fysik.dtu.dk/ase/ase/build/build.html) and any `ase` function to manipulate structures can also be applied here."
   ]
  },
  {
   "cell_type": "markdown",
   "id": "394da4b9-d5be-44fa-99a3-cbd825d1b095",
   "metadata": {},
   "source": [
    "Now we have to relax this structure. Ideally, high convergence DFT calculations are needed. To generate the actual dataset, the software VASP was employed. Here we will simply use LAMMPS with an emperical potential to demonstrate the calculations. See the end of the notebook for an example of how to switch to DFT."
   ]
  },
  {
   "cell_type": "code",
   "execution_count": 6,
   "id": "43153d6f-a9dd-4286-abd9-c1909a2f97e5",
   "metadata": {},
   "outputs": [],
   "source": [
    "job = pr.create.job.Lammps('Al_bulk', delete_aborted_job=True)\n",
    "job.structure = Al"
   ]
  },
  {
   "cell_type": "markdown",
   "id": "78fb243e-578a-4e35-9fe4-50207d3b41e9",
   "metadata": {},
   "source": [
    "Once the structure is assigned, an appropriate potential should also be chosen. This list of available for the structure containing Al can be found below.  This list originates from the NIST Interatomic Potential Database."
   ]
  },
  {
   "cell_type": "code",
   "execution_count": 7,
   "id": "2561c50e-f887-433b-836c-4c4b22b2795d",
   "metadata": {},
   "outputs": [
    {
     "data": {
      "text/plain": [
       "['AlLi-EAM',\n",
       " 'AlLi-ACE',\n",
       " 'AlLi-HDNNP',\n",
       " '1995--Angelo-J-E--Ni-Al-H--LAMMPS--ipr1',\n",
       " '1996--Farkas-D--Nb-Ti-Al--LAMMPS--ipr1',\n",
       " '1997--Liu-X-Y--Al-Mg--LAMMPS--ipr1',\n",
       " '1998--Liu-X-Y--Al-Mg--LAMMPS--ipr1',\n",
       " '1999--Liu-X-Y--Al-Cu--LAMMPS--ipr1',\n",
       " '1999--Mishin-Y--Al--LAMMPS--ipr1',\n",
       " '2000--Landa-A--Al-Pb--LAMMPS--ipr1']"
      ]
     },
     "execution_count": 7,
     "metadata": {},
     "output_type": "execute_result"
    }
   ],
   "source": [
    "job.list_potentials()[0:10]"
   ]
  },
  {
   "cell_type": "markdown",
   "id": "37ae757f-af9a-4ff9-a1b8-da0b8924be24",
   "metadata": {},
   "source": [
    "We choose a potential"
   ]
  },
  {
   "cell_type": "code",
   "execution_count": 8,
   "id": "f1978bf4-5650-4046-adfe-05a6461a58f4",
   "metadata": {},
   "outputs": [],
   "source": [
    "job.potential = \"AlLi-ACE\""
   ]
  },
  {
   "cell_type": "markdown",
   "id": "621dca30-7737-48d3-8cb4-c38d3662aeae",
   "metadata": {},
   "source": [
    "Now relax the structure"
   ]
  },
  {
   "cell_type": "code",
   "execution_count": 9,
   "id": "4c24b578-04c9-464d-800d-79c326acfdb4",
   "metadata": {},
   "outputs": [],
   "source": [
    "job.calc_minimize(pressure=0)"
   ]
  },
  {
   "cell_type": "markdown",
   "id": "df4d0e1f-8956-4e5a-9ac2-c9ce12de438c",
   "metadata": {},
   "source": [
    "And run the job"
   ]
  },
  {
   "cell_type": "code",
   "execution_count": 10,
   "id": "a354879f-7abd-4405-b102-ef12ff2580a0",
   "metadata": {},
   "outputs": [
    {
     "name": "stdout",
     "output_type": "stream",
     "text": [
      "The job Al_bulk was saved and received the ID: 3235\n"
     ]
    }
   ],
   "source": [
    "job.run()"
   ]
  },
  {
   "cell_type": "markdown",
   "id": "d56ea866-ffff-4fe7-8435-91c167e1340e",
   "metadata": {},
   "source": [
    "Another step done to collect structures for fitting is to run a EV curve . We can use the Murnaghan job from pyiron for this. First we set up a LAMMPS job again."
   ]
  },
  {
   "cell_type": "code",
   "execution_count": 11,
   "id": "54cfa204-759d-4cd0-990f-fc4e899b2745",
   "metadata": {},
   "outputs": [],
   "source": [
    "job = pr.create.job.Lammps('Al_bulk', delete_existing_job=True, delete_aborted_job=True)\n",
    "job.structure = Al\n",
    "job.potential = \"AlLi-ACE\"\n",
    "job.calc_minimize()"
   ]
  },
  {
   "cell_type": "markdown",
   "id": "bc97d0e6-0c71-4856-8330-08f8c8f8d6dc",
   "metadata": {},
   "source": [
    "Now we can create a Murnaghan Job"
   ]
  },
  {
   "cell_type": "code",
   "execution_count": 12,
   "id": "b02060e8-5e8b-4b64-8882-903fa0ac1b3c",
   "metadata": {},
   "outputs": [],
   "source": [
    "murn = job.create_job(pr.job_type.Murnaghan, 'murnaghan')"
   ]
  },
  {
   "cell_type": "markdown",
   "id": "e9b79f2b-5021-4750-8471-5a363c66c00f",
   "metadata": {},
   "source": [
    "We can check the possible input options"
   ]
  },
  {
   "cell_type": "code",
   "execution_count": 13,
   "id": "57c03598-96f3-49c3-9752-c3267739605d",
   "metadata": {},
   "outputs": [
    {
     "data": {
      "text/html": [
       "<div>\n",
       "<style scoped>\n",
       "    .dataframe tbody tr th:only-of-type {\n",
       "        vertical-align: middle;\n",
       "    }\n",
       "\n",
       "    .dataframe tbody tr th {\n",
       "        vertical-align: top;\n",
       "    }\n",
       "\n",
       "    .dataframe thead th {\n",
       "        text-align: right;\n",
       "    }\n",
       "</style>\n",
       "<table border=\"1\" class=\"dataframe\">\n",
       "  <thead>\n",
       "    <tr style=\"text-align: right;\">\n",
       "      <th></th>\n",
       "      <th>Parameter</th>\n",
       "      <th>Value</th>\n",
       "      <th>Comment</th>\n",
       "    </tr>\n",
       "  </thead>\n",
       "  <tbody>\n",
       "    <tr>\n",
       "      <th>0</th>\n",
       "      <td>num_points</td>\n",
       "      <td>11</td>\n",
       "      <td>number of sample points</td>\n",
       "    </tr>\n",
       "    <tr>\n",
       "      <th>1</th>\n",
       "      <td>fit_type</td>\n",
       "      <td>polynomial</td>\n",
       "      <td>['polynomial', 'birch', 'birchmurnaghan', 'mur...</td>\n",
       "    </tr>\n",
       "    <tr>\n",
       "      <th>2</th>\n",
       "      <td>fit_order</td>\n",
       "      <td>3</td>\n",
       "      <td>order of the fit polynom</td>\n",
       "    </tr>\n",
       "    <tr>\n",
       "      <th>3</th>\n",
       "      <td>vol_range</td>\n",
       "      <td>0.1</td>\n",
       "      <td>relative volume variation around volume define...</td>\n",
       "    </tr>\n",
       "    <tr>\n",
       "      <th>4</th>\n",
       "      <td>axes</td>\n",
       "      <td>(x, y, z)</td>\n",
       "      <td>Axes along which the strain will be applied</td>\n",
       "    </tr>\n",
       "    <tr>\n",
       "      <th>5</th>\n",
       "      <td>strains</td>\n",
       "      <td>None</td>\n",
       "      <td>List of strains that should be calculated.  If...</td>\n",
       "    </tr>\n",
       "    <tr>\n",
       "      <th>6</th>\n",
       "      <td>allow_aborted</td>\n",
       "      <td>0</td>\n",
       "      <td>The number of child jobs that are allowed to a...</td>\n",
       "    </tr>\n",
       "  </tbody>\n",
       "</table>\n",
       "</div>"
      ],
      "text/plain": [
       "       Parameter       Value  \\\n",
       "0     num_points          11   \n",
       "1       fit_type  polynomial   \n",
       "2      fit_order           3   \n",
       "3      vol_range         0.1   \n",
       "4           axes   (x, y, z)   \n",
       "5        strains        None   \n",
       "6  allow_aborted           0   \n",
       "\n",
       "                                             Comment  \n",
       "0                            number of sample points  \n",
       "1  ['polynomial', 'birch', 'birchmurnaghan', 'mur...  \n",
       "2                           order of the fit polynom  \n",
       "3  relative volume variation around volume define...  \n",
       "4        Axes along which the strain will be applied  \n",
       "5  List of strains that should be calculated.  If...  \n",
       "6  The number of child jobs that are allowed to a...  "
      ]
     },
     "execution_count": 13,
     "metadata": {},
     "output_type": "execute_result"
    }
   ],
   "source": [
    "murn.input"
   ]
  },
  {
   "cell_type": "markdown",
   "id": "5f487a55-27de-49b3-aa2b-9a70e5b28ae7",
   "metadata": {},
   "source": [
    "And run the job"
   ]
  },
  {
   "cell_type": "code",
   "execution_count": 14,
   "id": "9aad2b87-631e-442c-8f06-7ef0e941b99c",
   "metadata": {},
   "outputs": [
    {
     "name": "stdout",
     "output_type": "stream",
     "text": [
      "The job murnaghan was saved and received the ID: 3235\n",
      "The job murnaghan_0_9 was saved and received the ID: 3236\n",
      "The job murnaghan_0_92 was saved and received the ID: 3237\n",
      "The job murnaghan_0_94 was saved and received the ID: 3238\n",
      "The job murnaghan_0_96 was saved and received the ID: 3239\n",
      "The job murnaghan_0_98 was saved and received the ID: 3240\n",
      "The job murnaghan_1_0 was saved and received the ID: 3241\n",
      "The job murnaghan_1_02 was saved and received the ID: 3242\n",
      "The job murnaghan_1_04 was saved and received the ID: 3243\n",
      "The job murnaghan_1_06 was saved and received the ID: 3244\n",
      "The job murnaghan_1_08 was saved and received the ID: 3245\n",
      "The job murnaghan_1_1 was saved and received the ID: 3246\n"
     ]
    }
   ],
   "source": [
    "murn.run()"
   ]
  },
  {
   "cell_type": "markdown",
   "id": "3d3e3285-98ef-45e4-9a14-4b0c97d40499",
   "metadata": {},
   "source": [
    "## <font style=\"font-family:roboto;color:#455e6c\"> Scaling structures</font>  \n",
    "\n",
    "Another approach used is scaling the structures. We start by creating a bulk fcc again."
   ]
  },
  {
   "cell_type": "code",
   "execution_count": 15,
   "id": "fdb74555-f506-4369-a706-c3a6c971b183",
   "metadata": {},
   "outputs": [],
   "source": [
    "Al = pr.create.structure.bulk('Al', cubic=True, a=4.04)"
   ]
  },
  {
   "cell_type": "markdown",
   "id": "40862651-1fa0-4e7b-8536-6d16d140d828",
   "metadata": {},
   "source": [
    "We now scale the structure such that minimum nearest neighbor distance is varied from 2 to 6.5 Å in 0.5 intervals. We will also create a `StructureStorage` which easily save these structures, and run calculations with them later."
   ]
  },
  {
   "cell_type": "code",
   "execution_count": 16,
   "id": "151cfae9-0221-4d46-b5f0-587c0e0bde2d",
   "metadata": {},
   "outputs": [],
   "source": [
    "store = StructureStorage()"
   ]
  },
  {
   "cell_type": "markdown",
   "id": "8cb1bcb2-13b6-41c6-ae23-faf36e8bd653",
   "metadata": {},
   "source": [
    "We start by getting the minimum nearest neighbor distance"
   ]
  },
  {
   "cell_type": "code",
   "execution_count": 17,
   "id": "a27e3a97-a502-4528-8107-7f8d0e8f8be3",
   "metadata": {},
   "outputs": [
    {
     "data": {
      "text/plain": [
       "2.856711395993652"
      ]
     },
     "execution_count": 17,
     "metadata": {},
     "output_type": "execute_result"
    }
   ],
   "source": [
    "distances = Al.get_all_distances(mic=True).flatten()\n",
    "min_distance = np.min(distances[np.nonzero(distances)])\n",
    "min_distance"
   ]
  },
  {
   "cell_type": "markdown",
   "id": "a2774cb1-debf-45c5-a061-20bf43737144",
   "metadata": {},
   "source": [
    "The range of distances needed, and convert them to fractions"
   ]
  },
  {
   "cell_type": "code",
   "execution_count": 18,
   "id": "92bde7e0-5242-4a32-894d-a477cfdacdcb",
   "metadata": {},
   "outputs": [],
   "source": [
    "d_arr = np.arange(2, 7, 0.5)\n",
    "scale = d_arr/np.min(distances[np.nonzero(distances)])"
   ]
  },
  {
   "cell_type": "markdown",
   "id": "600c7550-6f8c-4e37-af63-ebd530fd2407",
   "metadata": {},
   "source": [
    "Now for each scaling, create a structure and store it"
   ]
  },
  {
   "cell_type": "code",
   "execution_count": 19,
   "id": "c914bbb4-8936-4121-a6ac-ef599d12632b",
   "metadata": {},
   "outputs": [],
   "source": [
    "for s in scale:\n",
    "    struct = Al.copy()\n",
    "    struct.apply_strain(s)\n",
    "    store.add_structure(struct, identifier=f'fcc_nnscale_{s}')"
   ]
  },
  {
   "cell_type": "markdown",
   "id": "f0bfa42c-7209-4736-ad37-6cf1cfe32512",
   "metadata": {},
   "source": [
    "Note that this procedure has to be repeated for other bulk structures of interest."
   ]
  },
  {
   "cell_type": "markdown",
   "id": "6043d967-6395-4ec3-9af2-8e541ffaa36d",
   "metadata": {},
   "source": [
    "## <font style=\"font-family:roboto;color:#455e6c\"> Structures from Materials Project</font>  \n",
    "\n",
    "For binary AlLi structures, we queried them from materials project. This can be done with pyiron. Note that you have to provide a [Materials Project API key](https://next-gen.materialsproject.org/api#api-key) for this functionality."
   ]
  },
  {
   "cell_type": "code",
   "execution_count": 20,
   "id": "e48ef08c-7fe2-4dd2-b688-ffb08d434157",
   "metadata": {},
   "outputs": [],
   "source": [
    "api_key=''"
   ]
  },
  {
   "cell_type": "markdown",
   "id": "f3b33005-59ff-4be5-be57-0fde3c4ec5b6",
   "metadata": {},
   "source": [
    "We can query structures that lie on the convex hull"
   ]
  },
  {
   "cell_type": "code",
   "execution_count": 21,
   "id": "91f055e2-2b89-4b94-b9be-616d86cb471b",
   "metadata": {},
   "outputs": [
    {
     "name": "stderr",
     "output_type": "stream",
     "text": [
      "/home/menon/miniconda3/envs/potentials_v0.0.2/lib/python3.11/site-packages/mp_api/client/mprester.py:227: UserWarning: mpcontribs-client not installed. Install the package to query MPContribs data, or construct pourbaix diagrams: 'pip install mpcontribs-client'\n",
      "  warnings.warn(\n"
     ]
    },
    {
     "data": {
      "application/vnd.jupyter.widget-view+json": {
       "model_id": "706763583edc4fd58fde77d9d4bb56a3",
       "version_major": 2,
       "version_minor": 0
      },
      "text/plain": [
       "Retrieving SummaryDoc documents:   0%|          | 0/4 [00:00<?, ?it/s]"
      ]
     },
     "metadata": {},
     "output_type": "display_data"
    }
   ],
   "source": [
    "structures = pr.create.structure.materialsproject.search(['Al-Li'], is_stable=True, api_key=api_key)"
   ]
  },
  {
   "cell_type": "markdown",
   "id": "75c1b027-8c6f-42a9-9519-fbd03a323766",
   "metadata": {},
   "source": [
    "We add these structures to the store"
   ]
  },
  {
   "cell_type": "code",
   "execution_count": 22,
   "id": "6dad21ff-90cf-4cdd-9220-7ef8221c0e60",
   "metadata": {},
   "outputs": [],
   "source": [
    "for structure in structures:\n",
    "    store.add_structure(structure, identifier=structure.get_chemical_formula())"
   ]
  },
  {
   "cell_type": "markdown",
   "id": "0c4918de-fb39-4395-b1b1-de05e1b10972",
   "metadata": {},
   "source": [
    "Note that you can also visualise the structures."
   ]
  },
  {
   "cell_type": "code",
   "execution_count": 23,
   "id": "d8ccb260-cba6-4f5b-a1db-c64327e09650",
   "metadata": {},
   "outputs": [
    {
     "data": {
      "application/vnd.jupyter.widget-view+json": {
       "model_id": "bc6366a4c05849aa9c50495a470ce751",
       "version_major": 2,
       "version_minor": 0
      },
      "text/plain": [
       "NGLWidget()"
      ]
     },
     "metadata": {},
     "output_type": "display_data"
    }
   ],
   "source": [
    "structures.get_structure(frame=3).plot3d()"
   ]
  },
  {
   "cell_type": "markdown",
   "id": "b5f1d2ea-1d02-4b9a-8659-2b03fb3ae78b",
   "metadata": {},
   "source": [
    "We need to relax these structure, but also perfrom EV curves, and scaling of the nearest neighbor distance as before. This is skipped for now."
   ]
  },
  {
   "cell_type": "markdown",
   "id": "f2878e30-38c3-46db-a97d-d224f79cfdab",
   "metadata": {},
   "source": [
    "## <font style=\"font-family:roboto;color:#455e6c\"> Adding strains</font>\n",
    "\n",
    "A usual approach is to start with some prototypical structures and strain and shake them.  We can use the fcc Al we created earlier."
   ]
  },
  {
   "cell_type": "code",
   "execution_count": 24,
   "id": "ca445da2-14ff-459d-a078-09b87c7dc902",
   "metadata": {},
   "outputs": [
    {
     "data": {
      "text/plain": [
       "array([-0.05 , -0.025,  0.   ,  0.025,  0.05 ])"
      ]
     },
     "execution_count": 24,
     "metadata": {},
     "output_type": "execute_result"
    }
   ],
   "source": [
    "strains = np.linspace(-0.05, 0.05, 5)\n",
    "strains"
   ]
  },
  {
   "cell_type": "code",
   "execution_count": 25,
   "id": "cb85a68d-f061-4d8d-aec9-2bd4fc00141e",
   "metadata": {},
   "outputs": [],
   "source": [
    "for eps in strains:\n",
    "    store.add_structure(\n",
    "        structure=Al.apply_strain(eps, return_box=True),\n",
    "        identifier=f'fcc_{eps}'\n",
    "    )"
   ]
  },
  {
   "cell_type": "markdown",
   "id": "596a06bb-47d9-4761-a47b-fa35523fde91",
   "metadata": {},
   "source": [
    "We can also add random displacements to atom positions using the `rattle` method"
   ]
  },
  {
   "cell_type": "code",
   "execution_count": 26,
   "id": "e32d36c6-7f72-49f8-88ea-5eeb04b4839b",
   "metadata": {},
   "outputs": [
    {
     "name": "stdout",
     "output_type": "stream",
     "text": [
      "Strain -0.05 Volume 14.133669118000002\n",
      "Strain -0.025 Volume 15.279106254750001\n",
      "Strain 0.0 Volume 16.484816\n",
      "Strain 0.02500000000000001 Volume 17.75234380525\n",
      "Strain 0.05 Volume 19.08323512199999\n"
     ]
    }
   ],
   "source": [
    "for eps in strains:\n",
    "    structure = Al.apply_strain(eps, return_box=True)\n",
    "    structure.rattle(0.05)\n",
    "    print('Strain', eps, 'Volume', structure.get_volume(per_atom=True))\n",
    "    store.add_structure(\n",
    "        structure=structure,\n",
    "        identifier=f'fcc_{eps}_rattle'\n",
    "    )"
   ]
  },
  {
   "cell_type": "markdown",
   "id": "2f30bac2-0266-450d-86df-bf2c25fca9ee",
   "metadata": {},
   "source": [
    "## <font style=\"font-family:roboto;color:#455e6c\"> Random crystals</font>"
   ]
  },
  {
   "cell_type": "markdown",
   "id": "442a235f-2fcf-479e-9070-75eb4b00b934",
   "metadata": {},
   "source": [
    "`pyxtal` is a [program](https://pyxtal.readthedocs.io/en/latest/) to generate random structures of a given space group and stoichiometry.\n",
    "It is useful for crystal structure prediction and also for generating training structures.\n",
    "We will use it later again, so let's briefly look at how it works."
   ]
  },
  {
   "cell_type": "code",
   "execution_count": 27,
   "id": "85388722-dd32-4cbc-bb99-76c35e062fc6",
   "metadata": {},
   "outputs": [],
   "source": [
    "import structuretoolkit as stk\n",
    "from pyiron_atomistics import ase_to_pyiron"
   ]
  },
  {
   "cell_type": "markdown",
   "id": "4481063f-1ebe-48d4-a03b-3d1758a17019",
   "metadata": {},
   "source": [
    "`structuretoolkit` is a library for structure manipulation and analysis also developed by the pyiron team.  For compatibility with a wider range of codes it operates purely on ASE `Atoms` objects, so we need to convert structures explicitely here.  In the next release of `pyiron_atomistics` you will be able to call `pr.create.structure.pyxtal` directly for a more convenient wrapper."
   ]
  },
  {
   "cell_type": "markdown",
   "id": "96c182b2-f9cf-4457-a4f3-43e7672ba664",
   "metadata": {},
   "source": [
    "We usually also use random crystals generated by sampling random space groups.  One would use more spacegroups and differently sized unit cells, but we'll keep it simple here.  Details can be found in [this paper](https://journals.aps.org/prb/abstract/10.1103/PhysRevB.107.104103)."
   ]
  },
  {
   "cell_type": "code",
   "execution_count": 28,
   "id": "d6afd7c3-3280-4b5b-84c7-84e1028f3795",
   "metadata": {},
   "outputs": [],
   "source": [
    "groups = [1, 194, 225]"
   ]
  },
  {
   "cell_type": "code",
   "execution_count": 29,
   "id": "ab6e32de-d8b9-410c-8fdc-886404b9ce00",
   "metadata": {},
   "outputs": [
    {
     "data": {
      "application/vnd.jupyter.widget-view+json": {
       "model_id": "a66428040b914375b2745b0356ae390e",
       "version_major": 2,
       "version_minor": 0
      },
      "text/plain": [
       "Spacegroups:   0%|          | 0/3 [00:00<?, ?it/s]"
      ]
     },
     "metadata": {},
     "output_type": "display_data"
    }
   ],
   "source": [
    "for i, structure in enumerate(stk.build.pyxtal(\n",
    "    group=groups,\n",
    "    species=['Al'],\n",
    "    num_ions=[4],\n",
    "    tm='metallic'\n",
    ")):\n",
    "    store.add_structure(\n",
    "        structure=structure['atoms'],\n",
    "        identifier=f'random_{i}'\n",
    "    )"
   ]
  },
  {
   "cell_type": "markdown",
   "id": "fa80c1c0-beed-4dee-bc11-38a72b066077",
   "metadata": {},
   "source": [
    "We can now collected a number of structures in the store."
   ]
  },
  {
   "cell_type": "code",
   "execution_count": 30,
   "id": "a723308a-62fe-4fad-8bae-95f75732b435",
   "metadata": {},
   "outputs": [
    {
     "data": {
      "text/plain": [
       "27"
      ]
     },
     "execution_count": 30,
     "metadata": {},
     "output_type": "execute_result"
    }
   ],
   "source": [
    "store.number_of_structures"
   ]
  },
  {
   "cell_type": "markdown",
   "id": "fc45892a-8fbf-412a-80c0-107e670effd4",
   "metadata": {},
   "source": [
    "The next step is to calculate the energies and forces"
   ]
  },
  {
   "cell_type": "code",
   "execution_count": 31,
   "id": "25982622-63a3-4ab0-83a4-b70dd8476762",
   "metadata": {},
   "outputs": [
    {
     "name": "stdout",
     "output_type": "stream",
     "text": [
      "The job fcc_nnscale_0d7001057239470768 was saved and received the ID: 3247\n",
      "The job fcc_nnscale_0d875132154933846 was saved and received the ID: 3248\n",
      "The job fcc_nnscale_1d0501585859206153 was saved and received the ID: 3249\n",
      "The job fcc_nnscale_1d2251850169073843 was saved and received the ID: 3250\n",
      "The job fcc_nnscale_1d4002114478941536 was saved and received the ID: 3251\n",
      "The job fcc_nnscale_1d5752378788809227 was saved and received the ID: 3252\n",
      "The job fcc_nnscale_1d750264309867692 was saved and received the ID: 3253\n",
      "The job fcc_nnscale_1d925290740854461 was saved and received the ID: 3254\n",
      "The job fcc_nnscale_2d1003171718412306 was saved and received the ID: 3255\n",
      "The job fcc_nnscale_2d2753436028279994 was saved and received the ID: 3256\n",
      "The job Al2Li4 was saved and received the ID: 3257\n",
      "The job Al2Li3 was saved and received the ID: 3258\n",
      "The job Al4Li9 was saved and received the ID: 3259\n",
      "The job Al2Li2 was saved and received the ID: 3260\n",
      "The job fcc_m0d05 was saved and received the ID: 3261\n",
      "The job fcc_m0d025 was saved and received the ID: 3262\n",
      "The job fcc_0d0 was saved and received the ID: 3263\n",
      "The job fcc_0d02500000000000001 was saved and received the ID: 3264\n",
      "The job fcc_0d05 was saved and received the ID: 3265\n",
      "The job fcc_m0d05_rattle was saved and received the ID: 3266\n",
      "The job fcc_m0d025_rattle was saved and received the ID: 3267\n",
      "The job fcc_0d0_rattle was saved and received the ID: 3268\n",
      "The job fcc_0d02500000000000001_rattle was saved and received the ID: 3269\n",
      "The job fcc_0d05_rattle was saved and received the ID: 3270\n",
      "The job random_0 was saved and received the ID: 3271\n",
      "The job random_1 was saved and received the ID: 3272\n",
      "The job random_2 was saved and received the ID: 3273\n"
     ]
    }
   ],
   "source": [
    "for i, structure in enumerate(store.iter_structures()):\n",
    "    # pyiron has some opinions of what is a proper \"job name\" for technical reasons, but\n",
    "    # you can always use this function to translate your favorite one into a \"proper\" one\n",
    "    name = pr.create.job_name(store['identifier', i])\n",
    "    job = pr.create.job.Lammps(name)\n",
    "    job.potential = \"AlLi-ACE\"\n",
    "    job.structure = structure\n",
    "    job.calc_static()\n",
    "    job.run()"
   ]
  },
  {
   "cell_type": "markdown",
   "id": "aca3f4b7-9ab6-48af-ba46-219657b26659",
   "metadata": {},
   "source": [
    "Once our reference calculations are finished, we can collect the results in a container for convenience."
   ]
  },
  {
   "cell_type": "code",
   "execution_count": 32,
   "id": "ddf48fb5-d0af-4523-9216-74982a0deb06",
   "metadata": {},
   "outputs": [],
   "source": [
    "train = pr.create.job.TrainingContainer(\"AlLi\")"
   ]
  },
  {
   "cell_type": "markdown",
   "id": "85f617d5-8812-4cf9-b025-bbab5682665c",
   "metadata": {},
   "source": [
    "We include all the jobs we did so far in the TrainingContainer"
   ]
  },
  {
   "cell_type": "code",
   "execution_count": 33,
   "id": "a504d733-ffc3-425f-9d0a-e49e49acceb7",
   "metadata": {},
   "outputs": [
    {
     "data": {
      "application/vnd.jupyter.widget-view+json": {
       "model_id": "b6697634c5834580a55c71989f67d4f0",
       "version_major": 2,
       "version_minor": 0
      },
      "text/plain": [
       "  0%|          | 0/38 [00:00<?, ?it/s]"
      ]
     },
     "metadata": {},
     "output_type": "display_data"
    }
   ],
   "source": [
    "for job in pr.iter_jobs(hamilton='Lammps', status='finished'):\n",
    "    for i in range(job.number_of_structures):\n",
    "        train.include_job(job, iteration_step=i)"
   ]
  },
  {
   "cell_type": "markdown",
   "id": "3a7eb3aa-9574-463e-b1a0-1a48dd581232",
   "metadata": {},
   "source": [
    "\"Running\" the container simply saves it to disk and to our database.  It can also precompute\n",
    "nearest neighbor information."
   ]
  },
  {
   "cell_type": "code",
   "execution_count": 34,
   "id": "bdb03f8b-9c95-4295-ab2d-64f1aa2b338a",
   "metadata": {},
   "outputs": [
    {
     "name": "stdout",
     "output_type": "stream",
     "text": [
      "The job AlLi was saved and received the ID: 3274\n"
     ]
    }
   ],
   "source": [
    "train.run()"
   ]
  },
  {
   "cell_type": "markdown",
   "id": "0a7fdc3b-501e-499a-8695-32b1c9f231b1",
   "metadata": {},
   "source": [
    "Besides keeping everything in one place, the `TrainingContainer` also defines a number of plotting functions."
   ]
  },
  {
   "cell_type": "code",
   "execution_count": 41,
   "id": "5adad0d0-df0a-485b-9bbe-077fd544c0d7",
   "metadata": {},
   "outputs": [
    {
     "data": {
      "image/png": "[encoded data removed]",
      "text/plain": [
       "<Figure size 640x480 with 1 Axes>"
      ]
     },
     "metadata": {},
     "output_type": "display_data"
    }
   ],
   "source": [
    "df = train.plot.concentration()"
   ]
  },
  {
   "cell_type": "code",
   "execution_count": 37,
   "id": "95b762e2-a545-4c18-b164-5ddb5b182447",
   "metadata": {},
   "outputs": [],
   "source": [
    "import matplotlib.pyplot as plt"
   ]
  },
  {
   "cell_type": "code",
   "execution_count": 38,
   "id": "64395e77-b1d5-4de2-ab93-bb016e3cf24f",
   "metadata": {},
   "outputs": [
    {
     "data": {
      "text/plain": [
       "Text(0, 0.5, 'Energy [eV/atom]')"
      ]
     },
     "execution_count": 38,
     "metadata": {},
     "output_type": "execute_result"
    },
    {
     "data": {
      "image/png": "[encoded data removed]",
      "text/plain": [
       "<Figure size 640x480 with 1 Axes>"
      ]
     },
     "metadata": {},
     "output_type": "display_data"
    }
   ],
   "source": [
    "train.plot.energy_distance()\n",
    "plt.xlabel(r'Minimum Nearest Neighbor Distance [$\\mathrm{\\AA}$]')\n",
    "plt.ylabel('Energy [eV/atom]')"
   ]
  },
  {
   "cell_type": "markdown",
   "id": "70ed8136-b005-4633-85eb-31ec30088163",
   "metadata": {},
   "source": [
    "For fitting potentials within pyiron you can use the container as is, but if you have external tools, you can\n",
    "export the data into a table."
   ]
  },
  {
   "cell_type": "code",
   "execution_count": 42,
   "id": "e16d8020-8d8f-4175-a9e6-63795a2010f2",
   "metadata": {},
   "outputs": [],
   "source": [
    "df = train.to_pandas()"
   ]
  },
  {
   "cell_type": "code",
   "execution_count": 43,
   "id": "8b58940d-58f1-4956-91fc-d01bb3fc6a74",
   "metadata": {
    "collapsed": true,
    "jupyter": {
     "outputs_hidden": true
    }
   },
   "outputs": [
    {
     "data": {
      "text/html": [
       "<div>\n",
       "<style scoped>\n",
       "    .dataframe tbody tr th:only-of-type {\n",
       "        vertical-align: middle;\n",
       "    }\n",
       "\n",
       "    .dataframe tbody tr th {\n",
       "        vertical-align: top;\n",
       "    }\n",
       "\n",
       "    .dataframe thead th {\n",
       "        text-align: right;\n",
       "    }\n",
       "</style>\n",
       "<table border=\"1\" class=\"dataframe\">\n",
       "  <thead>\n",
       "    <tr style=\"text-align: right;\">\n",
       "      <th></th>\n",
       "      <th>name</th>\n",
       "      <th>atoms</th>\n",
       "      <th>energy</th>\n",
       "      <th>forces</th>\n",
       "      <th>stress</th>\n",
       "      <th>number_of_atoms</th>\n",
       "    </tr>\n",
       "  </thead>\n",
       "  <tbody>\n",
       "    <tr>\n",
       "      <th>0</th>\n",
       "      <td>murnaghan_0_9</td>\n",
       "      <td>[Atom('Al', [0.0, 0.0, 0.0], index=0), Atom('Al', [0.0, 1.9502885569035455, 1.9502885569035457], index=1), Atom('Al', [1.9502885569033719, 1.1942073193127126e-16, 1.9502885569035457], index=2), At...</td>\n",
       "      <td>-13.726807</td>\n",
       "      <td>[[2.7755575615628894e-16, 2.4507447286825596e-11, 2.45097377488304e-11], [-1.6653345369377296e-16, -2.4507149131228194e-11, -2.4509806169592397e-11], [1.2490009027032999e-16, 2.4508833547723394e-1...</td>\n",
       "      <td>[10.928554808714699, 10.928554808895496, 10.928554808895496, -3.025959988843314e-15, 1.0227717860743506e-15, 1.7028409942544745e-17]</td>\n",
       "      <td>4</td>\n",
       "    </tr>\n",
       "    <tr>\n",
       "      <th>1</th>\n",
       "      <td>murnaghan_0_9</td>\n",
       "      <td>[Atom('Al', [0.0, 1.7737771094289194e-12, 1.7737771094289196e-12], index=0), Atom('Al', [0.0, 1.9502885569017743, 1.9502885569017745], index=1), Atom('Al', [1.9502885569033719, 1.7738965301608507e...</td>\n",
       "      <td>-13.726807</td>\n",
       "      <td>[[1.1102230246251597e-16, 9.840218917478438e-16, -3.12765771804313e-15], [3.3306690738754696e-16, -2.4615726124110897e-15, 2.0179786442050995e-15], [-4.649058915617839e-16, 3.9161382470176396e-16,...</td>\n",
       "      <td>[10.928554808714198, 10.928554808895099, 10.928554808895099, -1.7286798249853192e-15, -6.279916185092666e-16, 8.00349850262685e-16]</td>\n",
       "      <td>4</td>\n",
       "    </tr>\n",
       "    <tr>\n",
       "      <th>2</th>\n",
       "      <td>murnaghan_0_92</td>\n",
       "      <td>[Atom('Al', [0.0, 0.0, 0.0], index=0), Atom('Al', [0.0, 1.9646294289620627, 1.964629428962063], index=1), Atom('Al', [1.964629428962089, 1.2029885708445572e-16, 1.964629428962063], index=2), Atom(...</td>\n",
       "      <td>-13.805241</td>\n",
       "      <td>[[7.60502771868232e-15, 8.157279073137819e-11, 8.15714575360067e-11], [7.18869408444789e-15, -8.157772677860889e-11, -8.157145811838119e-11], [-7.43849426498855e-15, 8.157507254327039e-11, -8.1571...</td>\n",
       "      <td>[8.180512537202151, 8.180512537807301, 8.18051253780728, -5.436725742569895e-15, 3.3964265896264496e-15, -8.84823303274663e-15]</td>\n",
       "      <td>4</td>\n",
       "    </tr>\n",
       "    <tr>\n",
       "      <th>3</th>\n",
       "      <td>murnaghan_0_92</td>\n",
       "      <td>[Atom('Al', [0.0, 6.253870198020177e-12, 6.253870198020177e-12], index=0), Atom('Al', [0.0, 1.9646294289562551, 1.9646294289562554], index=1), Atom('Al', [1.964629428962089, 6.2539904968772615e-12...</td>\n",
       "      <td>-13.805241</td>\n",
       "      <td>[[5.55111512312578e-17, 4.0316057783873506e-15, 1.2563366867345723e-16], [6.93889390390723e-16, -3.4176220881088102e-15, -3.584117081073061e-16], [-4.9960036108132e-16, -1.46193820937945e-15, 7.59...</td>\n",
       "      <td>[8.18051253720211, 8.18051253780715, 8.18051253780715, -8.849950153531534e-16, 1.4179523398348394e-15, 7.882735101013417e-15]</td>\n",
       "      <td>4</td>\n",
       "    </tr>\n",
       "    <tr>\n",
       "      <th>4</th>\n",
       "      <td>murnaghan_0_94</td>\n",
       "      <td>[Atom('Al', [0.0, 0.0, 0.0], index=0), Atom('Al', [0.0, 1.978763939605398, 1.9787639396053982], index=1), Atom('Al', [1.9787639396054337, 1.2116434624530005e-16, 1.9787639396053982], index=2), Ato...</td>\n",
       "      <td>-13.862288</td>\n",
       "      <td>[[4.718447854656919e-16, 3.402577232556459e-11, 3.4024094966411395e-11], [6.106226635438359e-16, -3.402499560312829e-11, -3.4024111205428894e-11], [-8.396061623727749e-16, 3.402501479350669e-11, -...</td>\n",
       "      <td>[5.727736025705719, 5.727736025957509, 5.727736025957519, 3.2102306862556078e-18, 1.3013373782777794e-15, 3.4632011124401126e-15]</td>\n",
       "      <td>4</td>\n",
       "    </tr>\n",
       "    <tr>\n",
       "      <th>5</th>\n",
       "      <td>murnaghan_0_94</td>\n",
       "      <td>[Atom('Al', [0.0, 2.6995129786882887e-12, 2.699512978688289e-12], index=0), Atom('Al', [0.0, 1.978763939602699, 1.9787639396026993], index=1), Atom('Al', [1.9787639396054337, 2.699634143034534e-12...</td>\n",
       "      <td>-13.862288</td>\n",
       "      <td>[[-1.3877787807814496e-16, -1.8019440106709098e-16, 1.22808837181499e-15], [-1.3877787807814496e-16, 1.0625181290357891e-17, -1.5908222120346799e-16], [1.1796119636642298e-16, -9.898765834792659e-...</td>\n",
       "      <td>[5.7277360257058385, 5.727736025957618, 5.727736025957618, 7.677376181369829e-16, 1.7539648161898315e-15, 9.795215266310888e-16]</td>\n",
       "      <td>4</td>\n",
       "    </tr>\n",
       "    <tr>\n",
       "      <th>6</th>\n",
       "      <td>murnaghan_0_96</td>\n",
       "      <td>[Atom('Al', [0.0, 0.0, 0.0], index=0), Atom('Al', [0.0, 1.9926993560590622, 1.9926993560590625], index=1), Atom('Al', [1.9926993560590198, 1.2201764440303352e-16, 1.9926993560590625], index=2), At...</td>\n",
       "      <td>-13.900277</td>\n",
       "      <td>[[-1.2490009027032999e-16, 5.237170799029379e-11, 5.2370250311680496e-11], [4.857225732735059e-16, -5.237142436300549e-11, -5.2369241728902596e-11], [-5.204170427930419e-16, 5.2368029292322587e-11...</td>\n",
       "      <td>[3.5459868994645887, 3.5459868998477986, 3.5459868998477986, -6.084500060001384e-15, 6.078937456102558e-16, 2.844911717708717e-15]</td>\n",
       "      <td>4</td>\n",
       "    </tr>\n",
       "    <tr>\n",
       "      <th>7</th>\n",
       "      <td>murnaghan_0_96</td>\n",
       "      <td>[Atom('Al', [0.0, 4.530873766384499e-12, 4.5308737663845e-12], index=0), Atom('Al', [0.0, 1.992699356054531, 1.9926993560545312], index=1), Atom('Al', [1.9926993560590198, 4.5309957840289025e-12, ...</td>\n",
       "      <td>-13.900277</td>\n",
       "      <td>[[3.0531133177191795e-16, -1.0925505292136399e-15, -3.91869543891505e-15], [-9.71445146547012e-17, -2.5705349307458797e-15, 4.058414082692429e-15], [-2.0816681711721697e-17, 1.55322803230273e-15, ...</td>\n",
       "      <td>[3.545986899464419, 3.5459868998476285, 3.5459868998476187, 5.625268206115601e-15, 1.147783448417858e-15, 3.927016953085724e-16]</td>\n",
       "      <td>4</td>\n",
       "    </tr>\n",
       "    <tr>\n",
       "      <th>8</th>\n",
       "      <td>murnaghan_0_98</td>\n",
       "      <td>[Atom('Al', [0.0, 0.0, 0.0], index=0), Atom('Al', [0.0, 2.0064425445260037, 2.0064425445260037], index=1), Atom('Al', [2.0064425445261227, 1.2285917199134936e-16, 2.0064425445260037], index=2), At...</td>\n",
       "      <td>-13.921342</td>\n",
       "      <td>[[2.7339241981394503e-15, 1.40459400729299e-10, 1.40459564533787e-10], [3.59434704222394e-15, -1.40459299844287e-10, -1.40461136407784e-10], [-2.9212743335449404e-15, 1.40459319034666e-10, -1.4045...</td>\n",
       "      <td>[1.6114487960982602, 1.6114487971064502, 1.61144879710642, 1.1491944486834334e-15, 8.416722407599515e-16, 5.104944784473054e-16]</td>\n",
       "      <td>4</td>\n",
       "    </tr>\n",
       "    <tr>\n",
       "      <th>9</th>\n",
       "      <td>murnaghan_0_98</td>\n",
       "      <td>[Atom('Al', [0.0, 1.3230154261350417e-11, 1.3230154261350418e-11], index=0), Atom('Al', [0.0, 2.006442544513231, 2.006442544513231], index=1), Atom('Al', [2.0064425445261227, 1.3230277120522408e-1...</td>\n",
       "      <td>-13.921342</td>\n",
       "      <td>[[-2.6367796834847497e-16, 5.101171221544298e-17, 1.6750449685532698e-16], [-2.17881268582687e-15, -1.975958459354831e-16, -6.36261480836409e-16], [1.6306400674182e-15, 1.023486850826321e-16, 9.70...</td>\n",
       "      <td>[1.6114487960981, 1.6114487971062301, 1.6114487971062401, -2.49709021345003e-16, 2.3263294254188293e-15, -8.924404117805463e-16]</td>\n",
       "      <td>4</td>\n",
       "    </tr>\n",
       "    <tr>\n",
       "      <th>10</th>\n",
       "      <td>murnaghan_1_0</td>\n",
       "      <td>[Atom('Al', [0.0, 0.0, 0.0], index=0), Atom('Al', [0.0, 2.02, 2.02], index=1), Atom('Al', [2.02, 1.2368932671388267e-16, 2.02], index=2), Atom('Al', [2.02, 2.02, 2.4737865342776534e-16], index=3)]</td>\n",
       "      <td>-13.927420</td>\n",
       "      <td>[[-6.24500451351651e-17, -8.139647809934921e-17, 9.07002779391124e-16], [1.11022302462516e-16, 6.207057437479512e-17, -1.34205325892172e-15], [-1.3877787807814499e-16, -2.087089182034601e-17, -4.8...</td>\n",
       "      <td>[-0.0992127391828682, -0.0992127391828735, -0.0992127391828746, 1.7452531930285227e-15, 1.580341720935773e-15, 8.16769992723561e-16]</td>\n",
       "      <td>4</td>\n",
       "    </tr>\n",
       "    <tr>\n",
       "      <th>11</th>\n",
       "      <td>murnaghan_1_0</td>\n",
       "      <td>[Atom('Al', [0.0, 0.0, 0.0], index=0), Atom('Al', [0.0, 2.02, 2.02], index=1), Atom('Al', [2.02, 1.2368932671388267e-16, 2.02], index=2), Atom('Al', [2.02, 2.02, 2.4737865342776534e-16], index=3)]</td>\n",
       "      <td>-13.927420</td>\n",
       "      <td>[[-6.24500451351651e-17, -8.139647809934921e-17, 9.07002779391124e-16], [1.11022302462516e-16, 6.207057437479512e-17, -1.34205325892172e-15], [-1.3877787807814499e-16, -2.087089182034601e-17, -4.8...</td>\n",
       "      <td>[-0.0992127391828682, -0.0992127391828735, -0.0992127391828746, 1.7452531930285227e-15, 1.580341720935773e-15, 8.16769992723561e-16]</td>\n",
       "      <td>4</td>\n",
       "    </tr>\n",
       "    <tr>\n",
       "      <th>12</th>\n",
       "      <td>murnaghan_1_02</td>\n",
       "      <td>[Atom('Al', [0.0, 0.0, 0.0], index=0), Atom('Al', [0.0, 2.0333778733115575, 2.0333778733115575], index=1), Atom('Al', [2.033377873311428, 1.2450848520039458e-16, 2.0333778733115575], index=2), Ato...</td>\n",
       "      <td>-13.920267</td>\n",
       "      <td>[[1.35308431126191e-16, 5.24335564387485e-11, 5.2433530823505096e-11], [-3.3653635433950097e-16, -5.24332645308661e-11, -5.243395383212379e-11], [4.71844785465692e-16, 5.2433918358986195e-11, -5.2...</td>\n",
       "      <td>[-1.60625229044063, -1.6062522900859701, -1.6062522900860001, -1.6511775037652104e-16, 9.839318319937087e-16, -6.817897417614861e-16]</td>\n",
       "      <td>4</td>\n",
       "    </tr>\n",
       "    <tr>\n",
       "      <th>13</th>\n",
       "      <td>murnaghan_1_02</td>\n",
       "      <td>[Atom('Al', [0.0, 5.548039207405954e-12, 5.548039207405954e-12], index=0), Atom('Al', [0.0, 2.033377873305547, 2.033377873305547], index=1), Atom('Al', [2.033377873311428, 5.548163715891154e-12, 2...</td>\n",
       "      <td>-13.920267</td>\n",
       "      <td>[[-9.367506770274761e-17, 8.618865170173519e-16, 9.17084287748065e-16], [-2.13370987545147e-16, -1.7917796153038602e-16, 1.4634575317443698e-16], [2.08166817117217e-16, -8.16648181370394e-16, -3.8...</td>\n",
       "      <td>[-1.60625229044056, -1.60625229008588, -1.6062522900859, 2.056145664629541e-15, 9.52184808886603e-16, -3.6139724803987285e-16]</td>\n",
       "      <td>4</td>\n",
       "    </tr>\n",
       "    <tr>\n",
       "      <th>14</th>\n",
       "      <td>murnaghan_1_04</td>\n",
       "      <td>[Atom('Al', [0.0, 0.0, 0.0], index=0), Atom('Al', [0.0, 2.0465819957167533, 2.0465819957167533], index=1), Atom('Al', [2.046581995716758, 1.2531700451235647e-16, 2.0465819957167533], index=2), Ato...</td>\n",
       "      <td>-13.901481</td>\n",
       "      <td>[[-8.53483950180589e-16, 7.0813914334914e-11, 7.08142509422662e-11], [-5.9743876512641205e-15, -7.08126436885078e-11, -7.08124087572627e-11], [3.4347524824340804e-15, 7.081229352508739e-11, -7.081...</td>\n",
       "      <td>[-2.9295423297503, -2.92954232928863, -2.92954232928864, -7.399934602736879e-16, 6.563832834564279e-16, 1.9707784946807704e-15]</td>\n",
       "      <td>4</td>\n",
       "    </tr>\n",
       "    <tr>\n",
       "      <th>15</th>\n",
       "      <td>murnaghan_1_04</td>\n",
       "      <td>[Atom('Al', [0.0, 8.376099668248575e-12, 8.376099668248575e-12], index=0), Atom('Al', [0.0, 2.0465819957083746, 2.0465819957083746], index=1), Atom('Al', [2.046581995716758, 8.376224985253088e-12,...</td>\n",
       "      <td>-13.901481</td>\n",
       "      <td>[[6.66133814775094e-16, -1.3947435091902402e-15, -1.42281440523123e-15], [1.4571677198205201e-15, 1.11652029107152e-15, 2.6808002697217914e-16], [-1.4363510381088e-15, -1.847438150267941e-16, 2.17...</td>\n",
       "      <td>[-2.92954232975034, -2.92954232928871, -2.9295423292887004, -5.660760572814988e-16, 1.1442584483439684e-15, 7.530771420051013e-16]</td>\n",
       "      <td>4</td>\n",
       "    </tr>\n",
       "    <tr>\n",
       "      <th>16</th>\n",
       "      <td>murnaghan_1_06</td>\n",
       "      <td>[Atom('Al', [0.0, 0.0, 0.0], index=0), Atom('Al', [0.0, 2.059617901293083, 2.059617901293083], index=1), Atom('Al', [2.059617901292877, 1.2611522351424555e-16, 2.059617901293083], index=2), Atom('...</td>\n",
       "      <td>-13.872483</td>\n",
       "      <td>[[-1.5959455978986602e-15, 1.66496219318035e-10, 1.66495996542744e-10], [-1.3877787807814502e-15, -1.66495275221888e-10, -1.66494684423947e-10], [1.67227343084164e-15, 1.66495268066153e-10, -1.664...</td>\n",
       "      <td>[-4.091287824388091, -4.09128782334387, -4.09128782334387, -1.1295532410591191e-15, -6.49750807799794e-16, -5.9706012403594715e-15]</td>\n",
       "      <td>4</td>\n",
       "    </tr>\n",
       "    <tr>\n",
       "      <th>17</th>\n",
       "      <td>murnaghan_1_06</td>\n",
       "      <td>[Atom('Al', [0.0, 2.1541933041930873e-11, 2.1541933041930873e-11], index=0), Atom('Al', [0.0, 2.059617901271544, 2.059617901271544], index=1), Atom('Al', [2.059617901292877, 2.1542059157154387e-11...</td>\n",
       "      <td>-13.872483</td>\n",
       "      <td>[[-1.0963452368173401e-15, -1.01065260760952e-15, -1.2434058535581504e-15], [-2.56739074444567e-15, 1.21340519012789e-15, 4.992983255955039e-16], [1.9914625504213702e-15, -1.2019465284174298e-15, ...</td>\n",
       "      <td>[-4.09128782438818, -4.091287823343991, -4.09128782334398, -1.8855673138287976e-15, 2.787532164843654e-15, 3.6397527226690685e-16]</td>\n",
       "      <td>4</td>\n",
       "    </tr>\n",
       "    <tr>\n",
       "      <th>18</th>\n",
       "      <td>murnaghan_1_08</td>\n",
       "      <td>[Atom('Al', [0.0, 0.0, 0.0], index=0), Atom('Al', [0.0, 2.0724908473721464, 2.0724908473721464], index=1), Atom('Al', [2.0724908473721566, 1.2690346412482486e-16, 2.0724908473721464], index=2), At...</td>\n",
       "      <td>-13.834515</td>\n",
       "      <td>[[2.6367796834847497e-16, 7.889451357565979e-11, 7.889552350906789e-11], [3.6082248300317597e-16, -7.88938869881193e-11, -7.88951279211897e-11], [-2.77555756156289e-16, 7.889401400240379e-11, -7.8...</td>\n",
       "      <td>[-5.11204073207275, -5.11204073159606, -5.11204073159607, 6.63157690758202e-16, -4.07955685200895e-15, -6.4861437086636e-15]</td>\n",
       "      <td>4</td>\n",
       "    </tr>\n",
       "    <tr>\n",
       "      <th>19</th>\n",
       "      <td>murnaghan_1_08</td>\n",
       "      <td>[Atom('Al', [0.0, 1.130951667082625e-11, 1.130951667082625e-11], index=0), Atom('Al', [0.0, 2.072490847361308, 2.072490847361308], index=1), Atom('Al', [2.0724908473721566, 1.1309643574290375e-11,...</td>\n",
       "      <td>-13.834515</td>\n",
       "      <td>[[2.5396351688300503e-15, 1.6721514580972404e-15, -2.5273718457835775e-16], [-1.0408340855860801e-15, -1.2779219956543502e-15, -8.15030406627964e-16], [-9.64506252643105e-16, 7.924162628153429e-16...</td>\n",
       "      <td>[-5.11204073207278, -5.11204073159607, -5.11204073159608, -1.2884703536186933e-15, 3.284069838317288e-16, -9.632894370334422e-16]</td>\n",
       "      <td>4</td>\n",
       "    </tr>\n",
       "    <tr>\n",
       "      <th>20</th>\n",
       "      <td>murnaghan_1_1</td>\n",
       "      <td>[Atom('Al', [0.0, 0.0, 0.0], index=0), Atom('Al', [0.0, 2.0852058332218113, 2.0852058332218113], index=1), Atom('Al', [2.085205833221862, 1.2768203246092714e-16, 2.0852058332218113], index=2), Ato...</td>\n",
       "      <td>-13.788662</td>\n",
       "      <td>[[-1.1379786002407902e-15, 7.12413112985595e-11, 7.12419396179316e-11], [-3.80251385934116e-15, -7.12420098771243e-11, -7.12412387979265e-11], [3.2057689836051403e-15, 7.12411653784996e-11, -7.124...</td>\n",
       "      <td>[-6.01032202884503, -6.01032202842834, -6.01032202842833, 1.4049039617644798e-15, -3.934021989258524e-15, -6.782292548834917e-16]</td>\n",
       "      <td>4</td>\n",
       "    </tr>\n",
       "    <tr>\n",
       "      <th>21</th>\n",
       "      <td>murnaghan_1_1</td>\n",
       "      <td>[Atom('Al', [0.0, 1.0904781030058079e-11, 1.0904781030058079e-11], index=0), Atom('Al', [0.0, 2.0852058332109054, 2.0852058332109054], index=1), Atom('Al', [2.085205833221862, 1.090490871209054e-1...</td>\n",
       "      <td>-13.788662</td>\n",
       "      <td>[[1.0547118733939e-15, -2.3340162268181697e-16, -1.0539267552796202e-15], [8.881784197001249e-16, -2.1608149297636094e-16, 3.14875501482283e-16], [-1.2351231148954902e-15, 6.544515363665622e-17, 5...</td>\n",
       "      <td>[-6.01032202884509, -6.01032202842838, -6.010322028428391, -2.5734715457322622e-15, -1.824540462592408e-15, 7.598801686406019e-16]</td>\n",
       "      <td>4</td>\n",
       "    </tr>\n",
       "    <tr>\n",
       "      <th>22</th>\n",
       "      <td>fcc_nnscale_0d7001057239470768</td>\n",
       "      <td>[Atom('Al', [0.0, 0.0, 0.0], index=0), Atom('Al', [0.0, 3.4342135623734285, 3.4342135623734285], index=1), Atom('Al', [3.434213562373095, 2.10284932337432e-16, 3.4342135623734285], index=2), Atom(...</td>\n",
       "      <td>-3.805570</td>\n",
       "      <td>[[1.11022302462516e-16, -1.7832387641475398e-11, -1.78318691298619e-11], [7.771561172376101e-16, 1.78323644386454e-11, 1.7832193400982698e-11], [-4.861562541425e-16, -1.78320476358252e-11, 1.78315...</td>\n",
       "      <td>[-2.5337809354965803, -2.5337809355178402, -2.5337809355178402, -7.041194511171555e-16, -8.185716743399017e-16, -7.636746627902986e-16]</td>\n",
       "      <td>4</td>\n",
       "    </tr>\n",
       "    <tr>\n",
       "      <th>23</th>\n",
       "      <td>fcc_nnscale_0d875132154933846</td>\n",
       "      <td>[Atom('Al', [0.0, 0.0, 0.0], index=0), Atom('Al', [0.0, 3.7877669529663636, 3.787766952966364], index=1), Atom('Al', [3.787766952966369, 2.3193383374331934e-16, 3.787766952966364], index=2), Atom(...</td>\n",
       "      <td>-2.525812</td>\n",
       "      <td>[[4.71844785465692e-16, -5.82995804410125e-12, -5.83016250464367e-12], [-2.77555756156289e-17, 5.82991294129087e-12, 5.83009328146504e-12], [-2.2204460492503099e-16, -5.83024947764521e-12, 5.83026...</td>\n",
       "      <td>[-1.39554299899485, -1.39554299899362, -1.39554299899362, -1.1102413781571017e-16, -1.1485363282792146e-16, -1.0462492303743815e-16]</td>\n",
       "      <td>4</td>\n",
       "    </tr>\n",
       "    <tr>\n",
       "      <th>24</th>\n",
       "      <td>fcc_nnscale_1d0501585859206153</td>\n",
       "      <td>[Atom('Al', [0.0, 0.0, 0.0], index=0), Atom('Al', [0.0, 4.141320343559418, 4.141320343559418], index=1), Atom('Al', [4.141320343559643, 2.535827351492067e-16, 4.141320343559418], index=2), Atom('A...</td>\n",
       "      <td>-1.474280</td>\n",
       "      <td>[[5.55111512312578e-17, -6.0805145640774295e-12, -6.0806027609552694e-12], [4.85722573273506e-16, 6.08044170569144e-12, 6.08071374828886e-12], [-2.77555756156289e-16, -6.0804659918201094e-12, 6.08...</td>\n",
       "      <td>[-1.00714125183131, -1.00714125183474, -1.00714125183474, 2.2790191102877936e-16, -1.7928994530100663e-16, -8.146172687323171e-17]</td>\n",
       "      <td>4</td>\n",
       "    </tr>\n",
       "    <tr>\n",
       "      <th>25</th>\n",
       "      <td>fcc_nnscale_1d2251850169073843</td>\n",
       "      <td>[Atom('Al', [0.0, 0.0, 0.0], index=0), Atom('Al', [0.0, 4.494873734153065, 4.494873734153065], index=1), Atom('Al', [4.494873734152917, 2.7523163655509406e-16, 4.494873734153065], index=2), Atom('...</td>\n",
       "      <td>-0.703013</td>\n",
       "      <td>[[6.938893903907231e-17, 5.34669530871668e-13, 5.3468994823056e-13], [-1.8041124150158799e-16, -5.34610550273484e-13, -5.34721174447655e-13], [-5.55111512312578e-17, 5.34645244743004e-13, -5.34911...</td>\n",
       "      <td>[-0.8092652409374681, -0.809265240936153, -0.809265240936154, -1.5666965365690658e-16, -1.080317797975279e-18, 2.284549307196459e-16]</td>\n",
       "      <td>4</td>\n",
       "    </tr>\n",
       "    <tr>\n",
       "      <th>26</th>\n",
       "      <td>fcc_nnscale_1d4002114478941536</td>\n",
       "      <td>[Atom('Al', [0.0, 0.0, 0.0], index=0), Atom('Al', [0.0, 4.848427124746302, 4.848427124746302], index=1), Atom('Al', [4.84842712474619, 2.9688053796098133e-16, 4.848427124746302], index=2), Atom('A...</td>\n",
       "      <td>-0.016173</td>\n",
       "      <td>[[6.93889390390723e-18, -3.3317088671269695e-11, -3.33171169897621e-11], [5.30825383648903e-16, 3.33166836133381e-11, 3.33169964265223e-11], [-2.2204460492503099e-16, -3.3316301106811595e-11, 3.33...</td>\n",
       "      <td>[-0.13301093779857098, -0.133010937825051, -0.133010937825051, 2.4166687610107675e-17, -1.0483068580085428e-16, -1.0848856412988037e-16]</td>\n",
       "      <td>4</td>\n",
       "    </tr>\n",
       "    <tr>\n",
       "      <th>27</th>\n",
       "      <td>fcc_nnscale_1d5752378788809227</td>\n",
       "      <td>[Atom('Al', [0.0, 0.0, 0.0], index=0), Atom('Al', [0.0, 5.201980515339461, 5.201980515339461], index=1), Atom('Al', [5.201980515339465, 3.1852943936686874e-16, 5.201980515339461], index=2), Atom('...</td>\n",
       "      <td>0.000000</td>\n",
       "      <td>[[0.0, 0.0, 0.0], [0.0, 0.0, 0.0], [0.0, 0.0, 0.0], [0.0, 0.0, 0.0]]</td>\n",
       "      <td>[0.0, 0.0, 0.0, 0.0, 0.0, 0.0]</td>\n",
       "      <td>4</td>\n",
       "    </tr>\n",
       "    <tr>\n",
       "      <th>28</th>\n",
       "      <td>fcc_nnscale_1d750264309867692</td>\n",
       "      <td>[Atom('Al', [0.0, 0.0, 0.0], index=0), Atom('Al', [0.0, 5.5555339059332765, 5.5555339059332765], index=1), Atom('Al', [5.55553390593274, 3.4017834077275615e-16, 5.5555339059332765], index=2), Atom...</td>\n",
       "      <td>0.000000</td>\n",
       "      <td>[[0.0, 0.0, 0.0], [0.0, 0.0, 0.0], [0.0, 0.0, 0.0], [0.0, 0.0, 0.0]]</td>\n",
       "      <td>[0.0, 0.0, 0.0, 0.0, 0.0, 0.0]</td>\n",
       "      <td>4</td>\n",
       "    </tr>\n",
       "    <tr>\n",
       "      <th>29</th>\n",
       "      <td>fcc_nnscale_1d925290740854461</td>\n",
       "      <td>[Atom('Al', [0.0, 0.0, 0.0], index=0), Atom('Al', [0.0, 5.909087296525528, 5.909087296525528], index=1), Atom('Al', [5.90908729652601, 3.6182724217864327e-16, 5.909087296525528], index=2), Atom('A...</td>\n",
       "      <td>0.000000</td>\n",
       "      <td>[[0.0, 0.0, 0.0], [0.0, 0.0, 0.0], [0.0, 0.0, 0.0], [0.0, 0.0, 0.0]]</td>\n",
       "      <td>[0.0, 0.0, 0.0, 0.0, 0.0, 0.0]</td>\n",
       "      <td>4</td>\n",
       "    </tr>\n",
       "    <tr>\n",
       "      <th>30</th>\n",
       "      <td>fcc_nnscale_2d1003171718412306</td>\n",
       "      <td>[Atom('Al', [0.0, 0.0, 0.0], index=0), Atom('Al', [0.0, 6.262640687119617, 6.262640687119617], index=1), Atom('Al', [6.262640687119285, 3.834761435845307e-16, 6.262640687119617], index=2), Atom('A...</td>\n",
       "      <td>0.000000</td>\n",
       "      <td>[[0.0, 0.0, 0.0], [0.0, 0.0, 0.0], [0.0, 0.0, 0.0], [0.0, 0.0, 0.0]]</td>\n",
       "      <td>[0.0, 0.0, 0.0, 0.0, 0.0, 0.0]</td>\n",
       "      <td>4</td>\n",
       "    </tr>\n",
       "    <tr>\n",
       "      <th>31</th>\n",
       "      <td>fcc_nnscale_2d2753436028279994</td>\n",
       "      <td>[Atom('Al', [0.0, 0.0, 0.0], index=0), Atom('Al', [0.0, 6.616194077712115, 6.616194077712115], index=1), Atom('Al', [6.61619407771256, 4.0512504499041804e-16, 6.616194077712115], index=2), Atom('A...</td>\n",
       "      <td>0.000000</td>\n",
       "      <td>[[0.0, 0.0, 0.0], [0.0, 0.0, 0.0], [0.0, 0.0, 0.0], [0.0, 0.0, 0.0]]</td>\n",
       "      <td>[0.0, 0.0, 0.0, 0.0, 0.0, 0.0]</td>\n",
       "      <td>4</td>\n",
       "    </tr>\n",
       "    <tr>\n",
       "      <th>32</th>\n",
       "      <td>Al2Li4</td>\n",
       "      <td>[Atom('Li', [2.292290873806166, 2.499824030058131, 1.107724265], index=0), Atom('Li', [4.584582026193573, 2.33341558994187, 3.3231727950000005], index=1), Atom('Li', [4.584581832837493, 3.96459234...</td>\n",
       "      <td>-14.988090</td>\n",
       "      <td>[[-5.96677830909951e-08, -0.0101836070073889, 8.46545056276682e-16], [5.96677836898737e-08, 0.0101836070073866, -2.1024848528838902e-15], [2.61048730183204e-08, 0.0015289230360335, 8.3266726846886...</td>\n",
       "      <td>[0.7175180003674491, 0.450723473468783, -0.0877752196937763, 4.1378688008012704e-06, 1.5626076029176798e-15, -1.9584729475108301e-16]</td>\n",
       "      <td>6</td>\n",
       "    </tr>\n",
       "    <tr>\n",
       "      <th>33</th>\n",
       "      <td>Al2Li3</td>\n",
       "      <td>[Atom('Li', [-0.6586901416922629, 2.2205476831370827, 3.889773013029382], index=0), Atom('Li', [-1.7665169983079423, 1.4913274168631994, 1.4677247169705878], index=1), Atom('Li', [0.0, 0.0, 0.0], ...</td>\n",
       "      <td>-13.134617</td>\n",
       "      <td>[[-0.009860157693839054, -0.006490343502670049, -0.02155721899793475], [0.009860157771304499, 0.006490343421524431, 0.021557218987869217], [-8.438084556934013e-11, 8.532954580301348e-11, 6.8115768...</td>\n",
       "      <td>[-0.0425565735760627, 0.8080578453331351, 0.933884959854411, -0.145582495288451, -0.320285589564352, -0.48732846545485403]</td>\n",
       "      <td>5</td>\n",
       "    </tr>\n",
       "    <tr>\n",
       "      <th>34</th>\n",
       "      <td>Al4Li9</td>\n",
       "      <td>[Atom('Li', [0.7240130991425341, 4.343110959552811, 3.049856683934675], index=0), Atom('Li', [1.1826778683784394, 2.446998770324247, 4.925535516364554], index=1), Atom('Li', [2.821999361621372, 2....</td>\n",
       "      <td>-31.766573</td>\n",
       "      <td>[[0.01110995529492957, 0.000580459832247042, -0.0033123893017387657], [0.0010689945808027438, -0.021720781207635712, 0.00805935964624143], [-0.001068994578354502, 0.02172078120827552, -0.008059359...</td>\n",
       "      <td>[0.563461943433994, -0.147544401459783, 0.344096078759274, 0.022157749679152704, -0.033280464881095005, 0.0101204358349031]</td>\n",
       "      <td>13</td>\n",
       "    </tr>\n",
       "    <tr>\n",
       "      <th>35</th>\n",
       "      <td>Al2Li2</td>\n",
       "      <td>[Atom('Li', [3.232555058693683, 5.935704633691028, -3.34435461741942], index=0), Atom('Li', [1.9377137512499916, 1.3697876562502302, -1.114784872499997], index=1), Atom('Al', [1.9400102736935612, ...</td>\n",
       "      <td>-11.167165</td>\n",
       "      <td>[[-8.600642385761164e-08, 8.916817477504177e-08, -6.928257157141703e-08], [8.600642569324452e-08, -8.91681725344322e-08, 6.92825710598128e-08], [2.733118750662056e-08, -2.848904970964695e-08, 2.15...</td>\n",
       "      <td>[0.9877781729827881, 0.9877713157317419, 0.942470264476939, 1.39662587503533e-05, 4.21202873325633e-06, -9.187465569515701e-07]</td>\n",
       "      <td>4</td>\n",
       "    </tr>\n",
       "    <tr>\n",
       "      <th>36</th>\n",
       "      <td>fcc_m0d05</td>\n",
       "      <td>[Atom('Al', [0.0, 0.0, 0.0], index=0), Atom('Al', [0.0, 1.919000000000178, 1.9190000000001781], index=1), Atom('Al', [1.919, 1.1750486037818852e-16, 1.9190000000001781], index=2), Atom('Al', [1.91...</td>\n",
       "      <td>-13.476371</td>\n",
       "      <td>[[-5.55111512312578e-17, 4.26106358097228e-10, 4.2610976988351306e-10], [5.55111512312578e-17, -4.26106645410804e-10, -4.261099524204151e-10], [-4.57966997657877e-16, 4.26106449820732e-10, -4.2610...</td>\n",
       "      <td>[17.8864345080739, 17.8864345111085, 17.8864345111085, 5.932726261101899e-15, -6.450911721072668e-16, 1.0337762818370321e-15]</td>\n",
       "      <td>4</td>\n",
       "    </tr>\n",
       "    <tr>\n",
       "      <th>37</th>\n",
       "      <td>fcc_m0d025</td>\n",
       "      <td>[Atom('Al', [0.0, 0.0, 0.0], index=0), Atom('Al', [0.0, 1.9695, 1.9695000000000003], index=1), Atom('Al', [1.9695, 1.205970935460356e-16, 1.9695000000000003], index=2), Atom('Al', [1.9695, 1.96950...</td>\n",
       "      <td>-13.827095</td>\n",
       "      <td>[[-5.55111512312578e-17, -4.304282624767451e-17, -1.11261880069209e-16], [0.0, 1.17635935714677e-16, 2.12839088953753e-16], [-6.93889390390723e-18, 6.722053469410129e-18, 2.17543009778733e-17], [-...</td>\n",
       "      <td>[7.30725148168859, 7.30725148168859, 7.3072514816885805, 2.4052411011118143e-16, 1.6593766593881143e-15, 4.730203812066405e-16]</td>\n",
       "      <td>4</td>\n",
       "    </tr>\n",
       "    <tr>\n",
       "      <th>38</th>\n",
       "      <td>fcc_0d0</td>\n",
       "      <td>[Atom('Al', [0.0, 0.0, 0.0], index=0), Atom('Al', [0.0, 2.02, 2.02], index=1), Atom('Al', [2.02, 1.2368932671388267e-16, 2.02], index=2), Atom('Al', [2.02, 2.02, 2.4737865342776534e-16], index=3)]</td>\n",
       "      <td>-13.927420</td>\n",
       "      <td>[[-6.24500451351651e-17, -8.139647809934921e-17, 9.07002779391124e-16], [1.11022302462516e-16, 6.207057437479512e-17, -1.34205325892172e-15], [-1.3877787807814499e-16, -2.087089182034601e-17, -4.8...</td>\n",
       "      <td>[-0.0992127391828682, -0.0992127391828735, -0.0992127391828746, 1.7452531930285227e-15, 1.580341720935773e-15, 8.16769992723561e-16]</td>\n",
       "      <td>4</td>\n",
       "    </tr>\n",
       "    <tr>\n",
       "      <th>39</th>\n",
       "      <td>fcc_0d02500000000000001</td>\n",
       "      <td>[Atom('Al', [0.0, 0.0, 0.0], index=0), Atom('Al', [0.0, 2.0705, 2.0705], index=1), Atom('Al', [2.0705, 1.2678155988172973e-16, 2.0705], index=2), Atom('Al', [2.0705, 2.0705, 2.535631197634595e-16]...</td>\n",
       "      <td>-13.840961</td>\n",
       "      <td>[[1.11022302462516e-16, 2.0654051385848906e-17, -1.42977287269018e-16], [-5.09314812546791e-15, -5.980730233973191e-17, 4.0630838997439286e-17], [2.26901830657766e-15, 3.523657060577904e-17, 4.123...</td>\n",
       "      <td>[-4.9618283587108305, -4.96182835871084, -4.9618283587108305, -2.2554362178353883e-16, -7.066265733200861e-16, 8.170705751709108e-16]</td>\n",
       "      <td>4</td>\n",
       "    </tr>\n",
       "    <tr>\n",
       "      <th>40</th>\n",
       "      <td>fcc_0d05</td>\n",
       "      <td>[Atom('Al', [0.0, 0.0, 0.0], index=0), Atom('Al', [0.0, 2.121, 2.121], index=1), Atom('Al', [2.121, 1.298737930495768e-16, 2.121], index=2), Atom('Al', [2.121, 2.121, 2.5974758609915364e-16], inde...</td>\n",
       "      <td>-13.620487</td>\n",
       "      <td>[[-5.82867087928207e-16, -2.0399263875314803e-16, -1.5499277894642604e-16], [-3.91353616180368e-15, 2.6567018984041674e-16, 1.1895227182374177e-16], [1.86656246015104e-15, -2.603033890866139e-16, ...</td>\n",
       "      <td>[-8.05106937301114, -8.05106937301114, -8.05106937301114, -1.086024536420746e-15, 2.5489038621639114e-17, 1.6450668948486909e-15]</td>\n",
       "      <td>4</td>\n",
       "    </tr>\n",
       "    <tr>\n",
       "      <th>41</th>\n",
       "      <td>fcc_m0d05_rattle</td>\n",
       "      <td>[Atom('Al', [0.024835707650439527, 3.8310867848414953, 0.032384426905203066], index=0), Atom('Al', [0.07615149282021107, 1.907292331263944, 1.9072931521526744], index=1), Atom('Al', [1.99796064077...</td>\n",
       "      <td>-13.443020</td>\n",
       "      <td>[[0.213089813668553, -0.11745693609702199, -0.395743818710055], [-0.166183385361775, 0.240713652804462, 0.144423244953736], [-0.214813958954779, -0.446940445387437, 0.23509795622770996], [0.167907...</td>\n",
       "      <td>[18.1873187113746, 17.9978887905771, 18.2898078632061, 0.029824417217290688, -0.1503676878315819, -0.03815792197745209]</td>\n",
       "      <td>4</td>\n",
       "    </tr>\n",
       "    <tr>\n",
       "      <th>42</th>\n",
       "      <td>fcc_m0d025_rattle</td>\n",
       "      <td>[Atom('Al', [0.024835707650554636, 3.932086784941539, 0.03238442690515098], index=0), Atom('Al', [0.07615149282061304, 1.9577923312636094, 1.957793152152651], index=1), Atom('Al', [2.0484606407755...</td>\n",
       "      <td>-13.802063</td>\n",
       "      <td>[[0.157724181017068, -0.09653244090969838, -0.29813847749159], [-0.121469150124686, 0.187233782699495, 0.113019171978911], [-0.159019287284421, -0.338998575451025, 0.17992531543464196], [0.1227642...</td>\n",
       "      <td>[7.53692646067261, 7.396730427404941, 7.612966257704341, 0.019193591252007945, -0.11395371228572954, -0.02017981893963374]</td>\n",
       "      <td>4</td>\n",
       "    </tr>\n",
       "    <tr>\n",
       "      <th>43</th>\n",
       "      <td>fcc_0d0_rattle</td>\n",
       "      <td>[Atom('Al', [0.024835707650531415, 4.033086784941361, 0.032384426905105], index=0), Atom('Al', [0.07615149282041778, 2.008292331263829, 2.0082931521527416], index=1), Atom('Al', [2.098960640775202...</td>\n",
       "      <td>-13.909040</td>\n",
       "      <td>[[0.114133375624463, -0.07746455783753049, -0.219797801902412], [-0.086621876838319, 0.142624309852727, 0.0866123651959052], [-0.115080011427133, -0.251676379533575, 0.13489266545655199], [0.08756...</td>\n",
       "      <td>[0.0794842739247725, -0.0213592062798034, 0.13627527447652998, 0.013365891553854193, -0.08671290851519371, -0.012180972026410197]</td>\n",
       "      <td>4</td>\n",
       "    </tr>\n",
       "    <tr>\n",
       "      <th>44</th>\n",
       "      <td>fcc_0d02500000000000001_rattle</td>\n",
       "      <td>[Atom('Al', [0.024835707650405246, 4.134086784941361, 0.03238442690517407], index=0), Atom('Al', [0.07615149282052117, 2.0587923312636214, 2.0587931521526364], index=1), Atom('Al', [2.149460640775...</td>\n",
       "      <td>-13.828020</td>\n",
       "      <td>[[0.0791307701486349, -0.05967529138110729, -0.155514251351491], [-0.0589791674985523, 0.104442430958771, 0.0638060438710729], [-0.0797891189858805, -0.17938115472053, 0.09722306115324679], [0.059...</td>\n",
       "      <td>[-4.82040580521202, -4.88949163329622, -4.77844996006959, 0.009659181081580936, -0.0657469527936991, -0.008022734068148846]</td>\n",
       "      <td>4</td>\n",
       "    </tr>\n",
       "    <tr>\n",
       "      <th>45</th>\n",
       "      <td>fcc_0d05_rattle</td>\n",
       "      <td>[Atom('Al', [0.02483570765069217, 4.235086784941349, 0.0323844269049445], index=0), Atom('Al', [0.07615149282016515, 2.109292331263646, 2.1092931521523752], index=1), Atom('Al', [2.199960640775409...</td>\n",
       "      <td>-13.611976</td>\n",
       "      <td>[[0.0505980319553571, -0.0452884365575158, -0.103181678269465], [-0.0364291216192311, 0.0734345563790058, 0.0452716250216623], [-0.0510182173904146, -0.12055375444188, 0.06658234707072248], [0.036...</td>\n",
       "      <td>[-7.941595751635891, -7.98883467552883, -7.91169293413836, 0.006820326357638048, -0.04957727363118059, -0.004869676851895206]</td>\n",
       "      <td>4</td>\n",
       "    </tr>\n",
       "    <tr>\n",
       "      <th>46</th>\n",
       "      <td>random_0</td>\n",
       "      <td>[Atom('Al', [3.028913453585422, -1.9248781341981545, 4.182161943949651], index=0), Atom('Al', [4.403607954225836, -2.9065461945662703, 2.959468608124909], index=1), Atom('Al', [0.6796248032788214,...</td>\n",
       "      <td>11.041026</td>\n",
       "      <td>[[1.9849397413664298, 0.724660475573276, 3.5684395198565846], [-45.62898908515948, -10.903616538602906, -29.952192620246347], [47.19120144108909, 10.276722630047189, 28.319431190496932], [-3.54715...</td>\n",
       "      <td>[61.370233538720704, 67.4716082129834, 4.1892789935583306, -17.7965629034571, -17.0774058141544, 56.8800670392646]</td>\n",
       "      <td>4</td>\n",
       "    </tr>\n",
       "    <tr>\n",
       "      <th>47</th>\n",
       "      <td>random_1</td>\n",
       "      <td>[Atom('Al', [0.7699161469381917, 1.3335338840644897, 8.54847905657524], index=0), Atom('Al', [1.5398322938761106, -5.43288263763424e-14, 2.849493018858851], index=1), Atom('Al', [0.0, 0.0, 0.0], i...</td>\n",
       "      <td>-13.252485</td>\n",
       "      <td>[[-1.3619762468279852e-10, -2.2625558818286085e-10, -8.296375653944781e-11], [7.32126003276669e-11, 9.405592020610097e-11, -6.014043696854494e-13], [3.1492710416347907e-11, 6.609951121420776e-11, ...</td>\n",
       "      <td>[8.206521896374701, 8.20652193570763, -8.5956978360432, -7.5208667154684e-16, -2.56600097279073e-15, -1.51138795615814e-09]</td>\n",
       "      <td>4</td>\n",
       "    </tr>\n",
       "    <tr>\n",
       "      <th>48</th>\n",
       "      <td>random_2</td>\n",
       "      <td>[Atom('Al', [0.0, 0.0, 0.0], index=0), Atom('Al', [-2.887732745446304e-16, 2.3580127326971794, 2.3580127326971794], index=1), Atom('Al', [2.3580127326971536, -1.584201147175191e-30, 2.358012732697...</td>\n",
       "      <td>-11.690521</td>\n",
       "      <td>[[-1.0547118733940097e-15, 8.962422817782029e-13, 8.960433915227551e-13], [1.2212453270877797e-15, -8.964905911807569e-13, -8.9613277601038e-13], [-1.0408340855860804e-16, 8.975914629616441e-13, -...</td>\n",
       "      <td>[-11.577981534108801, -11.5779815339985, -11.5779815339985, -2.0562405054328905e-15, -4.177400975283743e-15, -5.0995294493696334e-15]</td>\n",
       "      <td>4</td>\n",
       "    </tr>\n",
       "  </tbody>\n",
       "</table>\n",
       "</div>"
      ],
      "text/plain": [
       "                              name  \\\n",
       "0                    murnaghan_0_9   \n",
       "1                    murnaghan_0_9   \n",
       "2                   murnaghan_0_92   \n",
       "3                   murnaghan_0_92   \n",
       "4                   murnaghan_0_94   \n",
       "5                   murnaghan_0_94   \n",
       "6                   murnaghan_0_96   \n",
       "7                   murnaghan_0_96   \n",
       "8                   murnaghan_0_98   \n",
       "9                   murnaghan_0_98   \n",
       "10                   murnaghan_1_0   \n",
       "11                   murnaghan_1_0   \n",
       "12                  murnaghan_1_02   \n",
       "13                  murnaghan_1_02   \n",
       "14                  murnaghan_1_04   \n",
       "15                  murnaghan_1_04   \n",
       "16                  murnaghan_1_06   \n",
       "17                  murnaghan_1_06   \n",
       "18                  murnaghan_1_08   \n",
       "19                  murnaghan_1_08   \n",
       "20                   murnaghan_1_1   \n",
       "21                   murnaghan_1_1   \n",
       "22  fcc_nnscale_0d7001057239470768   \n",
       "23   fcc_nnscale_0d875132154933846   \n",
       "24  fcc_nnscale_1d0501585859206153   \n",
       "25  fcc_nnscale_1d2251850169073843   \n",
       "26  fcc_nnscale_1d4002114478941536   \n",
       "27  fcc_nnscale_1d5752378788809227   \n",
       "28   fcc_nnscale_1d750264309867692   \n",
       "29   fcc_nnscale_1d925290740854461   \n",
       "30  fcc_nnscale_2d1003171718412306   \n",
       "31  fcc_nnscale_2d2753436028279994   \n",
       "32                          Al2Li4   \n",
       "33                          Al2Li3   \n",
       "34                          Al4Li9   \n",
       "35                          Al2Li2   \n",
       "36                       fcc_m0d05   \n",
       "37                      fcc_m0d025   \n",
       "38                         fcc_0d0   \n",
       "39         fcc_0d02500000000000001   \n",
       "40                        fcc_0d05   \n",
       "41                fcc_m0d05_rattle   \n",
       "42               fcc_m0d025_rattle   \n",
       "43                  fcc_0d0_rattle   \n",
       "44  fcc_0d02500000000000001_rattle   \n",
       "45                 fcc_0d05_rattle   \n",
       "46                        random_0   \n",
       "47                        random_1   \n",
       "48                        random_2   \n",
       "\n",
       "                                                                                                                                                                                                      atoms  \\\n",
       "0   [Atom('Al', [0.0, 0.0, 0.0], index=0), Atom('Al', [0.0, 1.9502885569035455, 1.9502885569035457], index=1), Atom('Al', [1.9502885569033719, 1.1942073193127126e-16, 1.9502885569035457], index=2), At...   \n",
       "1   [Atom('Al', [0.0, 1.7737771094289194e-12, 1.7737771094289196e-12], index=0), Atom('Al', [0.0, 1.9502885569017743, 1.9502885569017745], index=1), Atom('Al', [1.9502885569033719, 1.7738965301608507e...   \n",
       "2   [Atom('Al', [0.0, 0.0, 0.0], index=0), Atom('Al', [0.0, 1.9646294289620627, 1.964629428962063], index=1), Atom('Al', [1.964629428962089, 1.2029885708445572e-16, 1.964629428962063], index=2), Atom(...   \n",
       "3   [Atom('Al', [0.0, 6.253870198020177e-12, 6.253870198020177e-12], index=0), Atom('Al', [0.0, 1.9646294289562551, 1.9646294289562554], index=1), Atom('Al', [1.964629428962089, 6.2539904968772615e-12...   \n",
       "4   [Atom('Al', [0.0, 0.0, 0.0], index=0), Atom('Al', [0.0, 1.978763939605398, 1.9787639396053982], index=1), Atom('Al', [1.9787639396054337, 1.2116434624530005e-16, 1.9787639396053982], index=2), Ato...   \n",
       "5   [Atom('Al', [0.0, 2.6995129786882887e-12, 2.699512978688289e-12], index=0), Atom('Al', [0.0, 1.978763939602699, 1.9787639396026993], index=1), Atom('Al', [1.9787639396054337, 2.699634143034534e-12...   \n",
       "6   [Atom('Al', [0.0, 0.0, 0.0], index=0), Atom('Al', [0.0, 1.9926993560590622, 1.9926993560590625], index=1), Atom('Al', [1.9926993560590198, 1.2201764440303352e-16, 1.9926993560590625], index=2), At...   \n",
       "7   [Atom('Al', [0.0, 4.530873766384499e-12, 4.5308737663845e-12], index=0), Atom('Al', [0.0, 1.992699356054531, 1.9926993560545312], index=1), Atom('Al', [1.9926993560590198, 4.5309957840289025e-12, ...   \n",
       "8   [Atom('Al', [0.0, 0.0, 0.0], index=0), Atom('Al', [0.0, 2.0064425445260037, 2.0064425445260037], index=1), Atom('Al', [2.0064425445261227, 1.2285917199134936e-16, 2.0064425445260037], index=2), At...   \n",
       "9   [Atom('Al', [0.0, 1.3230154261350417e-11, 1.3230154261350418e-11], index=0), Atom('Al', [0.0, 2.006442544513231, 2.006442544513231], index=1), Atom('Al', [2.0064425445261227, 1.3230277120522408e-1...   \n",
       "10     [Atom('Al', [0.0, 0.0, 0.0], index=0), Atom('Al', [0.0, 2.02, 2.02], index=1), Atom('Al', [2.02, 1.2368932671388267e-16, 2.02], index=2), Atom('Al', [2.02, 2.02, 2.4737865342776534e-16], index=3)]   \n",
       "11     [Atom('Al', [0.0, 0.0, 0.0], index=0), Atom('Al', [0.0, 2.02, 2.02], index=1), Atom('Al', [2.02, 1.2368932671388267e-16, 2.02], index=2), Atom('Al', [2.02, 2.02, 2.4737865342776534e-16], index=3)]   \n",
       "12  [Atom('Al', [0.0, 0.0, 0.0], index=0), Atom('Al', [0.0, 2.0333778733115575, 2.0333778733115575], index=1), Atom('Al', [2.033377873311428, 1.2450848520039458e-16, 2.0333778733115575], index=2), Ato...   \n",
       "13  [Atom('Al', [0.0, 5.548039207405954e-12, 5.548039207405954e-12], index=0), Atom('Al', [0.0, 2.033377873305547, 2.033377873305547], index=1), Atom('Al', [2.033377873311428, 5.548163715891154e-12, 2...   \n",
       "14  [Atom('Al', [0.0, 0.0, 0.0], index=0), Atom('Al', [0.0, 2.0465819957167533, 2.0465819957167533], index=1), Atom('Al', [2.046581995716758, 1.2531700451235647e-16, 2.0465819957167533], index=2), Ato...   \n",
       "15  [Atom('Al', [0.0, 8.376099668248575e-12, 8.376099668248575e-12], index=0), Atom('Al', [0.0, 2.0465819957083746, 2.0465819957083746], index=1), Atom('Al', [2.046581995716758, 8.376224985253088e-12,...   \n",
       "16  [Atom('Al', [0.0, 0.0, 0.0], index=0), Atom('Al', [0.0, 2.059617901293083, 2.059617901293083], index=1), Atom('Al', [2.059617901292877, 1.2611522351424555e-16, 2.059617901293083], index=2), Atom('...   \n",
       "17  [Atom('Al', [0.0, 2.1541933041930873e-11, 2.1541933041930873e-11], index=0), Atom('Al', [0.0, 2.059617901271544, 2.059617901271544], index=1), Atom('Al', [2.059617901292877, 2.1542059157154387e-11...   \n",
       "18  [Atom('Al', [0.0, 0.0, 0.0], index=0), Atom('Al', [0.0, 2.0724908473721464, 2.0724908473721464], index=1), Atom('Al', [2.0724908473721566, 1.2690346412482486e-16, 2.0724908473721464], index=2), At...   \n",
       "19  [Atom('Al', [0.0, 1.130951667082625e-11, 1.130951667082625e-11], index=0), Atom('Al', [0.0, 2.072490847361308, 2.072490847361308], index=1), Atom('Al', [2.0724908473721566, 1.1309643574290375e-11,...   \n",
       "20  [Atom('Al', [0.0, 0.0, 0.0], index=0), Atom('Al', [0.0, 2.0852058332218113, 2.0852058332218113], index=1), Atom('Al', [2.085205833221862, 1.2768203246092714e-16, 2.0852058332218113], index=2), Ato...   \n",
       "21  [Atom('Al', [0.0, 1.0904781030058079e-11, 1.0904781030058079e-11], index=0), Atom('Al', [0.0, 2.0852058332109054, 2.0852058332109054], index=1), Atom('Al', [2.085205833221862, 1.090490871209054e-1...   \n",
       "22  [Atom('Al', [0.0, 0.0, 0.0], index=0), Atom('Al', [0.0, 3.4342135623734285, 3.4342135623734285], index=1), Atom('Al', [3.434213562373095, 2.10284932337432e-16, 3.4342135623734285], index=2), Atom(...   \n",
       "23  [Atom('Al', [0.0, 0.0, 0.0], index=0), Atom('Al', [0.0, 3.7877669529663636, 3.787766952966364], index=1), Atom('Al', [3.787766952966369, 2.3193383374331934e-16, 3.787766952966364], index=2), Atom(...   \n",
       "24  [Atom('Al', [0.0, 0.0, 0.0], index=0), Atom('Al', [0.0, 4.141320343559418, 4.141320343559418], index=1), Atom('Al', [4.141320343559643, 2.535827351492067e-16, 4.141320343559418], index=2), Atom('A...   \n",
       "25  [Atom('Al', [0.0, 0.0, 0.0], index=0), Atom('Al', [0.0, 4.494873734153065, 4.494873734153065], index=1), Atom('Al', [4.494873734152917, 2.7523163655509406e-16, 4.494873734153065], index=2), Atom('...   \n",
       "26  [Atom('Al', [0.0, 0.0, 0.0], index=0), Atom('Al', [0.0, 4.848427124746302, 4.848427124746302], index=1), Atom('Al', [4.84842712474619, 2.9688053796098133e-16, 4.848427124746302], index=2), Atom('A...   \n",
       "27  [Atom('Al', [0.0, 0.0, 0.0], index=0), Atom('Al', [0.0, 5.201980515339461, 5.201980515339461], index=1), Atom('Al', [5.201980515339465, 3.1852943936686874e-16, 5.201980515339461], index=2), Atom('...   \n",
       "28  [Atom('Al', [0.0, 0.0, 0.0], index=0), Atom('Al', [0.0, 5.5555339059332765, 5.5555339059332765], index=1), Atom('Al', [5.55553390593274, 3.4017834077275615e-16, 5.5555339059332765], index=2), Atom...   \n",
       "29  [Atom('Al', [0.0, 0.0, 0.0], index=0), Atom('Al', [0.0, 5.909087296525528, 5.909087296525528], index=1), Atom('Al', [5.90908729652601, 3.6182724217864327e-16, 5.909087296525528], index=2), Atom('A...   \n",
       "30  [Atom('Al', [0.0, 0.0, 0.0], index=0), Atom('Al', [0.0, 6.262640687119617, 6.262640687119617], index=1), Atom('Al', [6.262640687119285, 3.834761435845307e-16, 6.262640687119617], index=2), Atom('A...   \n",
       "31  [Atom('Al', [0.0, 0.0, 0.0], index=0), Atom('Al', [0.0, 6.616194077712115, 6.616194077712115], index=1), Atom('Al', [6.61619407771256, 4.0512504499041804e-16, 6.616194077712115], index=2), Atom('A...   \n",
       "32  [Atom('Li', [2.292290873806166, 2.499824030058131, 1.107724265], index=0), Atom('Li', [4.584582026193573, 2.33341558994187, 3.3231727950000005], index=1), Atom('Li', [4.584581832837493, 3.96459234...   \n",
       "33  [Atom('Li', [-0.6586901416922629, 2.2205476831370827, 3.889773013029382], index=0), Atom('Li', [-1.7665169983079423, 1.4913274168631994, 1.4677247169705878], index=1), Atom('Li', [0.0, 0.0, 0.0], ...   \n",
       "34  [Atom('Li', [0.7240130991425341, 4.343110959552811, 3.049856683934675], index=0), Atom('Li', [1.1826778683784394, 2.446998770324247, 4.925535516364554], index=1), Atom('Li', [2.821999361621372, 2....   \n",
       "35  [Atom('Li', [3.232555058693683, 5.935704633691028, -3.34435461741942], index=0), Atom('Li', [1.9377137512499916, 1.3697876562502302, -1.114784872499997], index=1), Atom('Al', [1.9400102736935612, ...   \n",
       "36  [Atom('Al', [0.0, 0.0, 0.0], index=0), Atom('Al', [0.0, 1.919000000000178, 1.9190000000001781], index=1), Atom('Al', [1.919, 1.1750486037818852e-16, 1.9190000000001781], index=2), Atom('Al', [1.91...   \n",
       "37  [Atom('Al', [0.0, 0.0, 0.0], index=0), Atom('Al', [0.0, 1.9695, 1.9695000000000003], index=1), Atom('Al', [1.9695, 1.205970935460356e-16, 1.9695000000000003], index=2), Atom('Al', [1.9695, 1.96950...   \n",
       "38     [Atom('Al', [0.0, 0.0, 0.0], index=0), Atom('Al', [0.0, 2.02, 2.02], index=1), Atom('Al', [2.02, 1.2368932671388267e-16, 2.02], index=2), Atom('Al', [2.02, 2.02, 2.4737865342776534e-16], index=3)]   \n",
       "39  [Atom('Al', [0.0, 0.0, 0.0], index=0), Atom('Al', [0.0, 2.0705, 2.0705], index=1), Atom('Al', [2.0705, 1.2678155988172973e-16, 2.0705], index=2), Atom('Al', [2.0705, 2.0705, 2.535631197634595e-16]...   \n",
       "40  [Atom('Al', [0.0, 0.0, 0.0], index=0), Atom('Al', [0.0, 2.121, 2.121], index=1), Atom('Al', [2.121, 1.298737930495768e-16, 2.121], index=2), Atom('Al', [2.121, 2.121, 2.5974758609915364e-16], inde...   \n",
       "41  [Atom('Al', [0.024835707650439527, 3.8310867848414953, 0.032384426905203066], index=0), Atom('Al', [0.07615149282021107, 1.907292331263944, 1.9072931521526744], index=1), Atom('Al', [1.99796064077...   \n",
       "42  [Atom('Al', [0.024835707650554636, 3.932086784941539, 0.03238442690515098], index=0), Atom('Al', [0.07615149282061304, 1.9577923312636094, 1.957793152152651], index=1), Atom('Al', [2.0484606407755...   \n",
       "43  [Atom('Al', [0.024835707650531415, 4.033086784941361, 0.032384426905105], index=0), Atom('Al', [0.07615149282041778, 2.008292331263829, 2.0082931521527416], index=1), Atom('Al', [2.098960640775202...   \n",
       "44  [Atom('Al', [0.024835707650405246, 4.134086784941361, 0.03238442690517407], index=0), Atom('Al', [0.07615149282052117, 2.0587923312636214, 2.0587931521526364], index=1), Atom('Al', [2.149460640775...   \n",
       "45  [Atom('Al', [0.02483570765069217, 4.235086784941349, 0.0323844269049445], index=0), Atom('Al', [0.07615149282016515, 2.109292331263646, 2.1092931521523752], index=1), Atom('Al', [2.199960640775409...   \n",
       "46  [Atom('Al', [3.028913453585422, -1.9248781341981545, 4.182161943949651], index=0), Atom('Al', [4.403607954225836, -2.9065461945662703, 2.959468608124909], index=1), Atom('Al', [0.6796248032788214,...   \n",
       "47  [Atom('Al', [0.7699161469381917, 1.3335338840644897, 8.54847905657524], index=0), Atom('Al', [1.5398322938761106, -5.43288263763424e-14, 2.849493018858851], index=1), Atom('Al', [0.0, 0.0, 0.0], i...   \n",
       "48  [Atom('Al', [0.0, 0.0, 0.0], index=0), Atom('Al', [-2.887732745446304e-16, 2.3580127326971794, 2.3580127326971794], index=1), Atom('Al', [2.3580127326971536, -1.584201147175191e-30, 2.358012732697...   \n",
       "\n",
       "       energy  \\\n",
       "0  -13.726807   \n",
       "1  -13.726807   \n",
       "2  -13.805241   \n",
       "3  -13.805241   \n",
       "4  -13.862288   \n",
       "5  -13.862288   \n",
       "6  -13.900277   \n",
       "7  -13.900277   \n",
       "8  -13.921342   \n",
       "9  -13.921342   \n",
       "10 -13.927420   \n",
       "11 -13.927420   \n",
       "12 -13.920267   \n",
       "13 -13.920267   \n",
       "14 -13.901481   \n",
       "15 -13.901481   \n",
       "16 -13.872483   \n",
       "17 -13.872483   \n",
       "18 -13.834515   \n",
       "19 -13.834515   \n",
       "20 -13.788662   \n",
       "21 -13.788662   \n",
       "22  -3.805570   \n",
       "23  -2.525812   \n",
       "24  -1.474280   \n",
       "25  -0.703013   \n",
       "26  -0.016173   \n",
       "27   0.000000   \n",
       "28   0.000000   \n",
       "29   0.000000   \n",
       "30   0.000000   \n",
       "31   0.000000   \n",
       "32 -14.988090   \n",
       "33 -13.134617   \n",
       "34 -31.766573   \n",
       "35 -11.167165   \n",
       "36 -13.476371   \n",
       "37 -13.827095   \n",
       "38 -13.927420   \n",
       "39 -13.840961   \n",
       "40 -13.620487   \n",
       "41 -13.443020   \n",
       "42 -13.802063   \n",
       "43 -13.909040   \n",
       "44 -13.828020   \n",
       "45 -13.611976   \n",
       "46  11.041026   \n",
       "47 -13.252485   \n",
       "48 -11.690521   \n",
       "\n",
       "                                                                                                                                                                                                     forces  \\\n",
       "0   [[2.7755575615628894e-16, 2.4507447286825596e-11, 2.45097377488304e-11], [-1.6653345369377296e-16, -2.4507149131228194e-11, -2.4509806169592397e-11], [1.2490009027032999e-16, 2.4508833547723394e-1...   \n",
       "1   [[1.1102230246251597e-16, 9.840218917478438e-16, -3.12765771804313e-15], [3.3306690738754696e-16, -2.4615726124110897e-15, 2.0179786442050995e-15], [-4.649058915617839e-16, 3.9161382470176396e-16,...   \n",
       "2   [[7.60502771868232e-15, 8.157279073137819e-11, 8.15714575360067e-11], [7.18869408444789e-15, -8.157772677860889e-11, -8.157145811838119e-11], [-7.43849426498855e-15, 8.157507254327039e-11, -8.1571...   \n",
       "3   [[5.55111512312578e-17, 4.0316057783873506e-15, 1.2563366867345723e-16], [6.93889390390723e-16, -3.4176220881088102e-15, -3.584117081073061e-16], [-4.9960036108132e-16, -1.46193820937945e-15, 7.59...   \n",
       "4   [[4.718447854656919e-16, 3.402577232556459e-11, 3.4024094966411395e-11], [6.106226635438359e-16, -3.402499560312829e-11, -3.4024111205428894e-11], [-8.396061623727749e-16, 3.402501479350669e-11, -...   \n",
       "5   [[-1.3877787807814496e-16, -1.8019440106709098e-16, 1.22808837181499e-15], [-1.3877787807814496e-16, 1.0625181290357891e-17, -1.5908222120346799e-16], [1.1796119636642298e-16, -9.898765834792659e-...   \n",
       "6   [[-1.2490009027032999e-16, 5.237170799029379e-11, 5.2370250311680496e-11], [4.857225732735059e-16, -5.237142436300549e-11, -5.2369241728902596e-11], [-5.204170427930419e-16, 5.2368029292322587e-11...   \n",
       "7   [[3.0531133177191795e-16, -1.0925505292136399e-15, -3.91869543891505e-15], [-9.71445146547012e-17, -2.5705349307458797e-15, 4.058414082692429e-15], [-2.0816681711721697e-17, 1.55322803230273e-15, ...   \n",
       "8   [[2.7339241981394503e-15, 1.40459400729299e-10, 1.40459564533787e-10], [3.59434704222394e-15, -1.40459299844287e-10, -1.40461136407784e-10], [-2.9212743335449404e-15, 1.40459319034666e-10, -1.4045...   \n",
       "9   [[-2.6367796834847497e-16, 5.101171221544298e-17, 1.6750449685532698e-16], [-2.17881268582687e-15, -1.975958459354831e-16, -6.36261480836409e-16], [1.6306400674182e-15, 1.023486850826321e-16, 9.70...   \n",
       "10  [[-6.24500451351651e-17, -8.139647809934921e-17, 9.07002779391124e-16], [1.11022302462516e-16, 6.207057437479512e-17, -1.34205325892172e-15], [-1.3877787807814499e-16, -2.087089182034601e-17, -4.8...   \n",
       "11  [[-6.24500451351651e-17, -8.139647809934921e-17, 9.07002779391124e-16], [1.11022302462516e-16, 6.207057437479512e-17, -1.34205325892172e-15], [-1.3877787807814499e-16, -2.087089182034601e-17, -4.8...   \n",
       "12  [[1.35308431126191e-16, 5.24335564387485e-11, 5.2433530823505096e-11], [-3.3653635433950097e-16, -5.24332645308661e-11, -5.243395383212379e-11], [4.71844785465692e-16, 5.2433918358986195e-11, -5.2...   \n",
       "13  [[-9.367506770274761e-17, 8.618865170173519e-16, 9.17084287748065e-16], [-2.13370987545147e-16, -1.7917796153038602e-16, 1.4634575317443698e-16], [2.08166817117217e-16, -8.16648181370394e-16, -3.8...   \n",
       "14  [[-8.53483950180589e-16, 7.0813914334914e-11, 7.08142509422662e-11], [-5.9743876512641205e-15, -7.08126436885078e-11, -7.08124087572627e-11], [3.4347524824340804e-15, 7.081229352508739e-11, -7.081...   \n",
       "15  [[6.66133814775094e-16, -1.3947435091902402e-15, -1.42281440523123e-15], [1.4571677198205201e-15, 1.11652029107152e-15, 2.6808002697217914e-16], [-1.4363510381088e-15, -1.847438150267941e-16, 2.17...   \n",
       "16  [[-1.5959455978986602e-15, 1.66496219318035e-10, 1.66495996542744e-10], [-1.3877787807814502e-15, -1.66495275221888e-10, -1.66494684423947e-10], [1.67227343084164e-15, 1.66495268066153e-10, -1.664...   \n",
       "17  [[-1.0963452368173401e-15, -1.01065260760952e-15, -1.2434058535581504e-15], [-2.56739074444567e-15, 1.21340519012789e-15, 4.992983255955039e-16], [1.9914625504213702e-15, -1.2019465284174298e-15, ...   \n",
       "18  [[2.6367796834847497e-16, 7.889451357565979e-11, 7.889552350906789e-11], [3.6082248300317597e-16, -7.88938869881193e-11, -7.88951279211897e-11], [-2.77555756156289e-16, 7.889401400240379e-11, -7.8...   \n",
       "19  [[2.5396351688300503e-15, 1.6721514580972404e-15, -2.5273718457835775e-16], [-1.0408340855860801e-15, -1.2779219956543502e-15, -8.15030406627964e-16], [-9.64506252643105e-16, 7.924162628153429e-16...   \n",
       "20  [[-1.1379786002407902e-15, 7.12413112985595e-11, 7.12419396179316e-11], [-3.80251385934116e-15, -7.12420098771243e-11, -7.12412387979265e-11], [3.2057689836051403e-15, 7.12411653784996e-11, -7.124...   \n",
       "21  [[1.0547118733939e-15, -2.3340162268181697e-16, -1.0539267552796202e-15], [8.881784197001249e-16, -2.1608149297636094e-16, 3.14875501482283e-16], [-1.2351231148954902e-15, 6.544515363665622e-17, 5...   \n",
       "22  [[1.11022302462516e-16, -1.7832387641475398e-11, -1.78318691298619e-11], [7.771561172376101e-16, 1.78323644386454e-11, 1.7832193400982698e-11], [-4.861562541425e-16, -1.78320476358252e-11, 1.78315...   \n",
       "23  [[4.71844785465692e-16, -5.82995804410125e-12, -5.83016250464367e-12], [-2.77555756156289e-17, 5.82991294129087e-12, 5.83009328146504e-12], [-2.2204460492503099e-16, -5.83024947764521e-12, 5.83026...   \n",
       "24  [[5.55111512312578e-17, -6.0805145640774295e-12, -6.0806027609552694e-12], [4.85722573273506e-16, 6.08044170569144e-12, 6.08071374828886e-12], [-2.77555756156289e-16, -6.0804659918201094e-12, 6.08...   \n",
       "25  [[6.938893903907231e-17, 5.34669530871668e-13, 5.3468994823056e-13], [-1.8041124150158799e-16, -5.34610550273484e-13, -5.34721174447655e-13], [-5.55111512312578e-17, 5.34645244743004e-13, -5.34911...   \n",
       "26  [[6.93889390390723e-18, -3.3317088671269695e-11, -3.33171169897621e-11], [5.30825383648903e-16, 3.33166836133381e-11, 3.33169964265223e-11], [-2.2204460492503099e-16, -3.3316301106811595e-11, 3.33...   \n",
       "27                                                                                                                                     [[0.0, 0.0, 0.0], [0.0, 0.0, 0.0], [0.0, 0.0, 0.0], [0.0, 0.0, 0.0]]   \n",
       "28                                                                                                                                     [[0.0, 0.0, 0.0], [0.0, 0.0, 0.0], [0.0, 0.0, 0.0], [0.0, 0.0, 0.0]]   \n",
       "29                                                                                                                                     [[0.0, 0.0, 0.0], [0.0, 0.0, 0.0], [0.0, 0.0, 0.0], [0.0, 0.0, 0.0]]   \n",
       "30                                                                                                                                     [[0.0, 0.0, 0.0], [0.0, 0.0, 0.0], [0.0, 0.0, 0.0], [0.0, 0.0, 0.0]]   \n",
       "31                                                                                                                                     [[0.0, 0.0, 0.0], [0.0, 0.0, 0.0], [0.0, 0.0, 0.0], [0.0, 0.0, 0.0]]   \n",
       "32  [[-5.96677830909951e-08, -0.0101836070073889, 8.46545056276682e-16], [5.96677836898737e-08, 0.0101836070073866, -2.1024848528838902e-15], [2.61048730183204e-08, 0.0015289230360335, 8.3266726846886...   \n",
       "33  [[-0.009860157693839054, -0.006490343502670049, -0.02155721899793475], [0.009860157771304499, 0.006490343421524431, 0.021557218987869217], [-8.438084556934013e-11, 8.532954580301348e-11, 6.8115768...   \n",
       "34  [[0.01110995529492957, 0.000580459832247042, -0.0033123893017387657], [0.0010689945808027438, -0.021720781207635712, 0.00805935964624143], [-0.001068994578354502, 0.02172078120827552, -0.008059359...   \n",
       "35  [[-8.600642385761164e-08, 8.916817477504177e-08, -6.928257157141703e-08], [8.600642569324452e-08, -8.91681725344322e-08, 6.92825710598128e-08], [2.733118750662056e-08, -2.848904970964695e-08, 2.15...   \n",
       "36  [[-5.55111512312578e-17, 4.26106358097228e-10, 4.2610976988351306e-10], [5.55111512312578e-17, -4.26106645410804e-10, -4.261099524204151e-10], [-4.57966997657877e-16, 4.26106449820732e-10, -4.2610...   \n",
       "37  [[-5.55111512312578e-17, -4.304282624767451e-17, -1.11261880069209e-16], [0.0, 1.17635935714677e-16, 2.12839088953753e-16], [-6.93889390390723e-18, 6.722053469410129e-18, 2.17543009778733e-17], [-...   \n",
       "38  [[-6.24500451351651e-17, -8.139647809934921e-17, 9.07002779391124e-16], [1.11022302462516e-16, 6.207057437479512e-17, -1.34205325892172e-15], [-1.3877787807814499e-16, -2.087089182034601e-17, -4.8...   \n",
       "39  [[1.11022302462516e-16, 2.0654051385848906e-17, -1.42977287269018e-16], [-5.09314812546791e-15, -5.980730233973191e-17, 4.0630838997439286e-17], [2.26901830657766e-15, 3.523657060577904e-17, 4.123...   \n",
       "40  [[-5.82867087928207e-16, -2.0399263875314803e-16, -1.5499277894642604e-16], [-3.91353616180368e-15, 2.6567018984041674e-16, 1.1895227182374177e-16], [1.86656246015104e-15, -2.603033890866139e-16, ...   \n",
       "41  [[0.213089813668553, -0.11745693609702199, -0.395743818710055], [-0.166183385361775, 0.240713652804462, 0.144423244953736], [-0.214813958954779, -0.446940445387437, 0.23509795622770996], [0.167907...   \n",
       "42  [[0.157724181017068, -0.09653244090969838, -0.29813847749159], [-0.121469150124686, 0.187233782699495, 0.113019171978911], [-0.159019287284421, -0.338998575451025, 0.17992531543464196], [0.1227642...   \n",
       "43  [[0.114133375624463, -0.07746455783753049, -0.219797801902412], [-0.086621876838319, 0.142624309852727, 0.0866123651959052], [-0.115080011427133, -0.251676379533575, 0.13489266545655199], [0.08756...   \n",
       "44  [[0.0791307701486349, -0.05967529138110729, -0.155514251351491], [-0.0589791674985523, 0.104442430958771, 0.0638060438710729], [-0.0797891189858805, -0.17938115472053, 0.09722306115324679], [0.059...   \n",
       "45  [[0.0505980319553571, -0.0452884365575158, -0.103181678269465], [-0.0364291216192311, 0.0734345563790058, 0.0452716250216623], [-0.0510182173904146, -0.12055375444188, 0.06658234707072248], [0.036...   \n",
       "46  [[1.9849397413664298, 0.724660475573276, 3.5684395198565846], [-45.62898908515948, -10.903616538602906, -29.952192620246347], [47.19120144108909, 10.276722630047189, 28.319431190496932], [-3.54715...   \n",
       "47  [[-1.3619762468279852e-10, -2.2625558818286085e-10, -8.296375653944781e-11], [7.32126003276669e-11, 9.405592020610097e-11, -6.014043696854494e-13], [3.1492710416347907e-11, 6.609951121420776e-11, ...   \n",
       "48  [[-1.0547118733940097e-15, 8.962422817782029e-13, 8.960433915227551e-13], [1.2212453270877797e-15, -8.964905911807569e-13, -8.9613277601038e-13], [-1.0408340855860804e-16, 8.975914629616441e-13, -...   \n",
       "\n",
       "                                                                                                                                      stress  \\\n",
       "0       [10.928554808714699, 10.928554808895496, 10.928554808895496, -3.025959988843314e-15, 1.0227717860743506e-15, 1.7028409942544745e-17]   \n",
       "1        [10.928554808714198, 10.928554808895099, 10.928554808895099, -1.7286798249853192e-15, -6.279916185092666e-16, 8.00349850262685e-16]   \n",
       "2            [8.180512537202151, 8.180512537807301, 8.18051253780728, -5.436725742569895e-15, 3.3964265896264496e-15, -8.84823303274663e-15]   \n",
       "3              [8.18051253720211, 8.18051253780715, 8.18051253780715, -8.849950153531534e-16, 1.4179523398348394e-15, 7.882735101013417e-15]   \n",
       "4          [5.727736025705719, 5.727736025957509, 5.727736025957519, 3.2102306862556078e-18, 1.3013373782777794e-15, 3.4632011124401126e-15]   \n",
       "5           [5.7277360257058385, 5.727736025957618, 5.727736025957618, 7.677376181369829e-16, 1.7539648161898315e-15, 9.795215266310888e-16]   \n",
       "6         [3.5459868994645887, 3.5459868998477986, 3.5459868998477986, -6.084500060001384e-15, 6.078937456102558e-16, 2.844911717708717e-15]   \n",
       "7           [3.545986899464419, 3.5459868998476285, 3.5459868998476187, 5.625268206115601e-15, 1.147783448417858e-15, 3.927016953085724e-16]   \n",
       "8           [1.6114487960982602, 1.6114487971064502, 1.61144879710642, 1.1491944486834334e-15, 8.416722407599515e-16, 5.104944784473054e-16]   \n",
       "9           [1.6114487960981, 1.6114487971062301, 1.6114487971062401, -2.49709021345003e-16, 2.3263294254188293e-15, -8.924404117805463e-16]   \n",
       "10      [-0.0992127391828682, -0.0992127391828735, -0.0992127391828746, 1.7452531930285227e-15, 1.580341720935773e-15, 8.16769992723561e-16]   \n",
       "11      [-0.0992127391828682, -0.0992127391828735, -0.0992127391828746, 1.7452531930285227e-15, 1.580341720935773e-15, 8.16769992723561e-16]   \n",
       "12     [-1.60625229044063, -1.6062522900859701, -1.6062522900860001, -1.6511775037652104e-16, 9.839318319937087e-16, -6.817897417614861e-16]   \n",
       "13            [-1.60625229044056, -1.60625229008588, -1.6062522900859, 2.056145664629541e-15, 9.52184808886603e-16, -3.6139724803987285e-16]   \n",
       "14           [-2.9295423297503, -2.92954232928863, -2.92954232928864, -7.399934602736879e-16, 6.563832834564279e-16, 1.9707784946807704e-15]   \n",
       "15        [-2.92954232975034, -2.92954232928871, -2.9295423292887004, -5.660760572814988e-16, 1.1442584483439684e-15, 7.530771420051013e-16]   \n",
       "16       [-4.091287824388091, -4.09128782334387, -4.09128782334387, -1.1295532410591191e-15, -6.49750807799794e-16, -5.9706012403594715e-15]   \n",
       "17        [-4.09128782438818, -4.091287823343991, -4.09128782334398, -1.8855673138287976e-15, 2.787532164843654e-15, 3.6397527226690685e-16]   \n",
       "18              [-5.11204073207275, -5.11204073159606, -5.11204073159607, 6.63157690758202e-16, -4.07955685200895e-15, -6.4861437086636e-15]   \n",
       "19         [-5.11204073207278, -5.11204073159607, -5.11204073159608, -1.2884703536186933e-15, 3.284069838317288e-16, -9.632894370334422e-16]   \n",
       "20         [-6.01032202884503, -6.01032202842834, -6.01032202842833, 1.4049039617644798e-15, -3.934021989258524e-15, -6.782292548834917e-16]   \n",
       "21        [-6.01032202884509, -6.01032202842838, -6.010322028428391, -2.5734715457322622e-15, -1.824540462592408e-15, 7.598801686406019e-16]   \n",
       "22   [-2.5337809354965803, -2.5337809355178402, -2.5337809355178402, -7.041194511171555e-16, -8.185716743399017e-16, -7.636746627902986e-16]   \n",
       "23      [-1.39554299899485, -1.39554299899362, -1.39554299899362, -1.1102413781571017e-16, -1.1485363282792146e-16, -1.0462492303743815e-16]   \n",
       "24        [-1.00714125183131, -1.00714125183474, -1.00714125183474, 2.2790191102877936e-16, -1.7928994530100663e-16, -8.146172687323171e-17]   \n",
       "25     [-0.8092652409374681, -0.809265240936153, -0.809265240936154, -1.5666965365690658e-16, -1.080317797975279e-18, 2.284549307196459e-16]   \n",
       "26  [-0.13301093779857098, -0.133010937825051, -0.133010937825051, 2.4166687610107675e-17, -1.0483068580085428e-16, -1.0848856412988037e-16]   \n",
       "27                                                                                                            [0.0, 0.0, 0.0, 0.0, 0.0, 0.0]   \n",
       "28                                                                                                            [0.0, 0.0, 0.0, 0.0, 0.0, 0.0]   \n",
       "29                                                                                                            [0.0, 0.0, 0.0, 0.0, 0.0, 0.0]   \n",
       "30                                                                                                            [0.0, 0.0, 0.0, 0.0, 0.0, 0.0]   \n",
       "31                                                                                                            [0.0, 0.0, 0.0, 0.0, 0.0, 0.0]   \n",
       "32     [0.7175180003674491, 0.450723473468783, -0.0877752196937763, 4.1378688008012704e-06, 1.5626076029176798e-15, -1.9584729475108301e-16]   \n",
       "33                [-0.0425565735760627, 0.8080578453331351, 0.933884959854411, -0.145582495288451, -0.320285589564352, -0.48732846545485403]   \n",
       "34               [0.563461943433994, -0.147544401459783, 0.344096078759274, 0.022157749679152704, -0.033280464881095005, 0.0101204358349031]   \n",
       "35           [0.9877781729827881, 0.9877713157317419, 0.942470264476939, 1.39662587503533e-05, 4.21202873325633e-06, -9.187465569515701e-07]   \n",
       "36             [17.8864345080739, 17.8864345111085, 17.8864345111085, 5.932726261101899e-15, -6.450911721072668e-16, 1.0337762818370321e-15]   \n",
       "37           [7.30725148168859, 7.30725148168859, 7.3072514816885805, 2.4052411011118143e-16, 1.6593766593881143e-15, 4.730203812066405e-16]   \n",
       "38      [-0.0992127391828682, -0.0992127391828735, -0.0992127391828746, 1.7452531930285227e-15, 1.580341720935773e-15, 8.16769992723561e-16]   \n",
       "39     [-4.9618283587108305, -4.96182835871084, -4.9618283587108305, -2.2554362178353883e-16, -7.066265733200861e-16, 8.170705751709108e-16]   \n",
       "40         [-8.05106937301114, -8.05106937301114, -8.05106937301114, -1.086024536420746e-15, 2.5489038621639114e-17, 1.6450668948486909e-15]   \n",
       "41                   [18.1873187113746, 17.9978887905771, 18.2898078632061, 0.029824417217290688, -0.1503676878315819, -0.03815792197745209]   \n",
       "42                [7.53692646067261, 7.396730427404941, 7.612966257704341, 0.019193591252007945, -0.11395371228572954, -0.02017981893963374]   \n",
       "43         [0.0794842739247725, -0.0213592062798034, 0.13627527447652998, 0.013365891553854193, -0.08671290851519371, -0.012180972026410197]   \n",
       "44               [-4.82040580521202, -4.88949163329622, -4.77844996006959, 0.009659181081580936, -0.0657469527936991, -0.008022734068148846]   \n",
       "45             [-7.941595751635891, -7.98883467552883, -7.91169293413836, 0.006820326357638048, -0.04957727363118059, -0.004869676851895206]   \n",
       "46                        [61.370233538720704, 67.4716082129834, 4.1892789935583306, -17.7965629034571, -17.0774058141544, 56.8800670392646]   \n",
       "47               [8.206521896374701, 8.20652193570763, -8.5956978360432, -7.5208667154684e-16, -2.56600097279073e-15, -1.51138795615814e-09]   \n",
       "48     [-11.577981534108801, -11.5779815339985, -11.5779815339985, -2.0562405054328905e-15, -4.177400975283743e-15, -5.0995294493696334e-15]   \n",
       "\n",
       "    number_of_atoms  \n",
       "0                 4  \n",
       "1                 4  \n",
       "2                 4  \n",
       "3                 4  \n",
       "4                 4  \n",
       "5                 4  \n",
       "6                 4  \n",
       "7                 4  \n",
       "8                 4  \n",
       "9                 4  \n",
       "10                4  \n",
       "11                4  \n",
       "12                4  \n",
       "13                4  \n",
       "14                4  \n",
       "15                4  \n",
       "16                4  \n",
       "17                4  \n",
       "18                4  \n",
       "19                4  \n",
       "20                4  \n",
       "21                4  \n",
       "22                4  \n",
       "23                4  \n",
       "24                4  \n",
       "25                4  \n",
       "26                4  \n",
       "27                4  \n",
       "28                4  \n",
       "29                4  \n",
       "30                4  \n",
       "31                4  \n",
       "32                6  \n",
       "33                5  \n",
       "34               13  \n",
       "35                4  \n",
       "36                4  \n",
       "37                4  \n",
       "38                4  \n",
       "39                4  \n",
       "40                4  \n",
       "41                4  \n",
       "42                4  \n",
       "43                4  \n",
       "44                4  \n",
       "45                4  \n",
       "46                4  \n",
       "47                4  \n",
       "48                4  "
      ]
     },
     "execution_count": 43,
     "metadata": {},
     "output_type": "execute_result"
    }
   ],
   "source": [
    "df"
   ]
  },
  {
   "cell_type": "code",
   "execution_count": null,
   "id": "f4b391d9-9d60-4816-ac62-79963d92a8ef",
   "metadata": {},
   "outputs": [],
   "source": []
  }
 ],
 "metadata": {
  "kernelspec": {
   "display_name": "Python 3 (ipykernel)",
   "language": "python",
   "name": "python3"
  },
  "language_info": {
   "codemirror_mode": {
    "name": "ipython",
    "version": 3
   },
   "file_extension": ".py",
   "mimetype": "text/x-python",
   "name": "python",
   "nbconvert_exporter": "python",
   "pygments_lexer": "ipython3",
   "version": "3.11.6"
  }
 },
 "nbformat": 4,
 "nbformat_minor": 5
}
