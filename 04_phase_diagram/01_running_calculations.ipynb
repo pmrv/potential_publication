{
 "cells": [
  {
   "cell_type": "markdown",
   "id": "29d4a988-eed8-43df-80ed-f26c141bb8ad",
   "metadata": {},
   "source": [
    "# <font style=\"font-family:roboto;color:#455e6c\"> Setting up calculations for the phase diagram </font>  "
   ]
  },
  {
   "cell_type": "markdown",
   "id": "e8cc82b8-3e6c-44e7-8e8f-606f422e87a2",
   "metadata": {},
   "source": [
    "<div class=\"admonition note\" name=\"html-admonition\" style=\"background:#e3f2fd; padding: 10px\">\n",
    "<font style=\"font-family:roboto;color:#455e6c\"> <b> These notebooks are part of: </b> <a href=\"http://arxiv.org/abs/2403.05724\"> Menon, S. et al. From electrons to phase diagrams with classical and machine learning potentials: automated workflows for materials science with pyiron. Preprint at http://arxiv.org/abs/2403.05724 (2024) </a> </font> </br>\n",
    "</div>"
   ]
  },
  {
   "cell_type": "markdown",
   "id": "dbfdb66b-eb98-418f-9f33-b5dbaae41a4a",
   "metadata": {},
   "source": [
    "In this notebook, sample calculations to arrive at the phase diagram are illustrated. Note that only examples are shown here, not the full set. However, the complete set of calculations, along with inputs and outputs for each potential are available in other notebooks in this folder."
   ]
  },
  {
   "cell_type": "markdown",
   "id": "c86b838e-9991-4532-bb3a-985990b75c5f",
   "metadata": {},
   "source": [
    "## <font style=\"font-family:roboto;color:#455e6c\"> How to calculate phase diagrams? </font> \n",
    "\n",
    "In order to arrive at the phase diagram, we calculate the free energy as function of temperature and composition. For each composition chosen, free energy calculations are carried out over the given temperature range using Calphy."
   ]
  },
  {
   "cell_type": "markdown",
   "id": "342527a1-08c7-4b63-bb55-084592321bb6",
   "metadata": {},
   "source": [
    "We start with imports"
   ]
  },
  {
   "cell_type": "code",
   "execution_count": 1,
   "id": "c2bf7e5d-facf-46e3-bd24-62972d1d2761",
   "metadata": {},
   "outputs": [
    {
     "name": "stderr",
     "output_type": "stream",
     "text": [
      "/home/menon/miniconda3/envs/potentials_v0.0.2/lib/python3.11/site-packages/numpy/core/getlimits.py:542: UserWarning: Signature b'\\x00\\xd0\\xcc\\xcc\\xcc\\xcc\\xcc\\xcc\\xfb\\xbf\\x00\\x00\\x00\\x00\\x00\\x00' for <class 'numpy.longdouble'> does not match any known type: falling back to type probe function.\n",
      "This warnings indicates broken support for the dtype!\n",
      "  machar = _get_machar(dtype)\n",
      "2024-04-08 15:20:31,269 - pyiron_log - WARNING - pyiron found a 'templates' folder in the /home/menon/pyiron/resources resource directory. These are no longer supported in pyiron_base >=0.7.0. They are replaced by Project.create_job_class() and Project.wrap_python_function().\n"
     ]
    },
    {
     "data": {
      "application/vnd.jupyter.widget-view+json": {
       "model_id": "cad70397cb3a4cf5960e74cfe629f4ff",
       "version_major": 2,
       "version_minor": 0
      },
      "text/plain": []
     },
     "metadata": {},
     "output_type": "display_data"
    }
   ],
   "source": [
    "from pyiron_atomistics import Project\n",
    "import matplotlib.pyplot as plt\n",
    "import numpy as np"
   ]
  },
  {
   "cell_type": "markdown",
   "id": "c1c56fea-7a5d-460b-8186-0f94574073d8",
   "metadata": {},
   "source": [
    "We create a project"
   ]
  },
  {
   "cell_type": "code",
   "execution_count": 2,
   "id": "0d1f4dad-dc68-4626-a875-8755c218fe60",
   "metadata": {},
   "outputs": [],
   "source": [
    "pr = Project('thermodynamics')"
   ]
  },
  {
   "cell_type": "markdown",
   "id": "a6c73967-542a-4ac3-890f-a85d6fcc66a6",
   "metadata": {},
   "source": [
    "Here, we will calculated the free energy for pure Al, and for Al with 5% Li as examples. These calculations need to be repeated for the whole composition range."
   ]
  },
  {
   "cell_type": "markdown",
   "id": "335a3ecd-2fde-4f21-a8b6-1bff2cdc1983",
   "metadata": {},
   "source": [
    "First we calculate the free energy of fcc structure."
   ]
  },
  {
   "cell_type": "code",
   "execution_count": 3,
   "id": "95923d49-a7a1-47d6-934c-d46638d8d150",
   "metadata": {},
   "outputs": [],
   "source": [
    "al_sol = pr.create.job.Calphy(\"Al_fcc\", \n",
    "                              delete_aborted_job=True, \n",
    "                              delete_existing_job=True)"
   ]
  },
  {
   "cell_type": "markdown",
   "id": "4c413e98-db1d-4f87-a644-4bd410b44fa6",
   "metadata": {},
   "source": [
    "We create a fcc structure:"
   ]
  },
  {
   "cell_type": "code",
   "execution_count": 4,
   "id": "c91f74c1-d854-41d7-b4ac-77d8fbc2685c",
   "metadata": {},
   "outputs": [],
   "source": [
    "structure = pr.create.structure.ase.bulk('Al', cubic=True).repeat(4)"
   ]
  },
  {
   "cell_type": "code",
   "execution_count": 5,
   "id": "ef96dc4b-002d-414b-83bf-505693a6bacf",
   "metadata": {},
   "outputs": [],
   "source": [
    "al_sol.structure = structure"
   ]
  },
  {
   "cell_type": "markdown",
   "id": "064bc8ce-09d3-4548-a142-f6b1541fdfdb",
   "metadata": {},
   "source": [
    "Assign the potential"
   ]
  },
  {
   "cell_type": "code",
   "execution_count": 6,
   "id": "45f15664-3f48-4955-b48e-c3b66845bec0",
   "metadata": {},
   "outputs": [],
   "source": [
    "al_sol.potential = 'AlLi-EAM'"
   ]
  },
  {
   "cell_type": "markdown",
   "id": "115e3ad9-5dd6-43d9-a6bd-7029587216a0",
   "metadata": {},
   "source": [
    "Use more than one core for the calculation"
   ]
  },
  {
   "cell_type": "code",
   "execution_count": 7,
   "id": "b2674119-1f00-4e1e-9a76-6381fd65157d",
   "metadata": {},
   "outputs": [],
   "source": [
    "al_sol.server.cores = 4"
   ]
  },
  {
   "cell_type": "markdown",
   "id": "6cea47c6-69fa-4f1e-9edc-045cf7206338",
   "metadata": {},
   "source": [
    "We also change the equilibriation barostat to speed up the step"
   ]
  },
  {
   "cell_type": "code",
   "execution_count": 8,
   "id": "6d395817-a460-41b1-b33a-ffad0a6b6309",
   "metadata": {},
   "outputs": [],
   "source": [
    "al_sol.input.equilibration_control = 'berendsen'"
   ]
  },
  {
   "cell_type": "markdown",
   "id": "f00cda92-ac53-4245-a315-b8b19104d159",
   "metadata": {},
   "source": [
    "Now we can can the `calc_free_energy` method. ince we provide `600-1000`, the free energy is calculated at this temperature range. `pressure` denotes the pressure of the calculation, we chose 0 in this case. Since we are using a solid FCC lattice, we set `reference_phase` to `\"solid\"`. This means that the Einstein crystal will be used as the reference system. Finally, we have `n_equilibration_steps` and `n_switching_steps`. `n_equilibration_steps` denotes the number of MD steps over which the system is equilibrated to the required temperature and pressure. `n_switching_steps` are the number of MD steps over which the system is continuously transformed between the given interatomic potential, and the reference Einstein crystal."
   ]
  },
  {
   "cell_type": "code",
   "execution_count": 9,
   "id": "7a5d17c9-9ece-41a4-8dd5-c346f41022a7",
   "metadata": {},
   "outputs": [],
   "source": [
    "al_sol.calc_free_energy(temperature=[600, 1000], \n",
    "                     pressure=0, \n",
    "                     reference_phase=\"solid\",\n",
    "                     n_equilibration_steps=5000,\n",
    "                     n_switching_steps=5000)"
   ]
  },
  {
   "cell_type": "markdown",
   "id": "d1fd2ab4-8a3e-462c-b24c-d44451349bbf",
   "metadata": {},
   "source": [
    "and run the calculation"
   ]
  },
  {
   "cell_type": "code",
   "execution_count": 10,
   "id": "44bf1c98-e4ad-4ad3-9b87-e5af518a2da5",
   "metadata": {
    "scrolled": true
   },
   "outputs": [
    {
     "name": "stdout",
     "output_type": "stream",
     "text": [
      "The job Al_fcc was saved and received the ID: 8135\n"
     ]
    },
    {
     "name": "stderr",
     "output_type": "stream",
     "text": [
      "/home/menon/miniconda3/envs/potentials_v0.0.2/lib/python3.11/site-packages/ase/io/lammpsdata.py:49: FutureWarning: \"style\" is deprecated; please use \"atom_style\".\n",
      "  warnings.warn(\n",
      "--------------------------------------------------------------------------\n",
      "WARNING: Linux kernel CMA support was requested via the\n",
      "btl_vader_single_copy_mechanism MCA variable, but CMA support is\n",
      "not available due to restrictive ptrace settings.\n",
      "\n",
      "The vader shared memory BTL will fall back on another single-copy\n",
      "mechanism if one is available. This may result in lower performance.\n",
      "\n",
      "  Local host: cmleo26\n",
      "--------------------------------------------------------------------------\n",
      "[cmleo26:04339] 3 more processes have sent help message help-btl-vader.txt / cma-permission-denied\n",
      "[cmleo26:04339] Set MCA parameter \"orte_base_help_aggregate\" to 0 to see all help / error messages\n",
      "--------------------------------------------------------------------------\n",
      "WARNING: Linux kernel CMA support was requested via the\n",
      "btl_vader_single_copy_mechanism MCA variable, but CMA support is\n",
      "not available due to restrictive ptrace settings.\n",
      "\n",
      "The vader shared memory BTL will fall back on another single-copy\n",
      "mechanism if one is available. This may result in lower performance.\n",
      "\n",
      "  Local host: cmleo26\n",
      "--------------------------------------------------------------------------\n",
      "[cmleo26:04361] 3 more processes have sent help message help-btl-vader.txt / cma-permission-denied\n",
      "[cmleo26:04361] Set MCA parameter \"orte_base_help_aggregate\" to 0 to see all help / error messages\n",
      "--------------------------------------------------------------------------\n",
      "WARNING: Linux kernel CMA support was requested via the\n",
      "btl_vader_single_copy_mechanism MCA variable, but CMA support is\n",
      "not available due to restrictive ptrace settings.\n",
      "\n",
      "The vader shared memory BTL will fall back on another single-copy\n",
      "mechanism if one is available. This may result in lower performance.\n",
      "\n",
      "  Local host: cmleo26\n",
      "--------------------------------------------------------------------------\n",
      "[cmleo26:04382] 3 more processes have sent help message help-btl-vader.txt / cma-permission-denied\n",
      "[cmleo26:04382] Set MCA parameter \"orte_base_help_aggregate\" to 0 to see all help / error messages\n"
     ]
    },
    {
     "name": "stdout",
     "output_type": "stream",
     "text": [
      "Job 8135 is running!\n"
     ]
    },
    {
     "name": "stderr",
     "output_type": "stream",
     "text": [
      "/home/menon/miniconda3/envs/potentials_v0.0.2/lib/python3.11/site-packages/ase/io/lammpsdata.py:49: FutureWarning: \"style\" is deprecated; please use \"atom_style\".\n",
      "  warnings.warn(\n"
     ]
    }
   ],
   "source": [
    "al_sol.run()"
   ]
  },
  {
   "cell_type": "markdown",
   "id": "4094d337-ddcc-4a04-9edb-a73654f756f0",
   "metadata": {},
   "source": [
    "We can plot the results"
   ]
  },
  {
   "cell_type": "code",
   "execution_count": 12,
   "id": "848bc6ce-eb9f-407d-ad4d-88b689f86c8e",
   "metadata": {},
   "outputs": [
    {
     "data": {
      "image/png": "[encoded data removed]",
      "text/plain": [
       "<Figure size 640x480 with 1 Axes>"
      ]
     },
     "metadata": {},
     "output_type": "display_data"
    }
   ],
   "source": [
    "plt.plot(al_sol.output.temperature, al_sol.output.energy_free,\n",
    "        label=\"Al solid\", color='#C62828')\n",
    "plt.xlabel(\"Temperature (K)\")\n",
    "plt.ylabel(\"Free energy (eV/K)\")\n",
    "plt.legend();"
   ]
  },
  {
   "cell_type": "markdown",
   "id": "8c48ba88-3e19-42d8-8b07-2834e4e0e78d",
   "metadata": {},
   "source": [
    "Now we can take a look at how we can add composition changes. For this work we also considered substitutional impurities to change composition. We start again by creating a fcc structure."
   ]
  },
  {
   "cell_type": "code",
   "execution_count": 13,
   "id": "d20c97e0-29c2-4e3b-8250-c5fba7149e72",
   "metadata": {},
   "outputs": [],
   "source": [
    "structure = pr.create.structure.ase.bulk('Al', cubic=True).repeat(4)"
   ]
  },
  {
   "cell_type": "code",
   "execution_count": 14,
   "id": "64dc9e88-2c09-4900-95a3-4b8d1fd965e5",
   "metadata": {},
   "outputs": [
    {
     "data": {
      "text/plain": [
       "'Al256'"
      ]
     },
     "execution_count": 14,
     "metadata": {},
     "output_type": "execute_result"
    }
   ],
   "source": [
    "structure.get_chemical_formula()"
   ]
  },
  {
   "cell_type": "markdown",
   "id": "be856987-54df-48ea-baa5-bec29f15364e",
   "metadata": {},
   "source": [
    "As we can see, this is pure Al fcc structure. We want to change 5% of atoms to Li."
   ]
  },
  {
   "cell_type": "code",
   "execution_count": 18,
   "id": "3aa4680c-ae5e-4ab3-ae7d-45b913178d4d",
   "metadata": {},
   "outputs": [
    {
     "data": {
      "text/plain": [
       "12"
      ]
     },
     "execution_count": 18,
     "metadata": {},
     "output_type": "execute_result"
    }
   ],
   "source": [
    "composition = 0.05\n",
    "n_Li = int(composition*len(structure))\n",
    "n_Li"
   ]
  },
  {
   "cell_type": "markdown",
   "id": "51379678-e68c-44e8-ab15-b5f4774c40a1",
   "metadata": {},
   "source": [
    "Now we randomly replace 12 Al atoms with Li."
   ]
  },
  {
   "cell_type": "code",
   "execution_count": 19,
   "id": "8070c384-2b6f-4521-b8c5-9fcdb5ead596",
   "metadata": {},
   "outputs": [],
   "source": [
    "structure[np.random.permutation(len(structure))[:n_Li]] = 'Li'"
   ]
  },
  {
   "cell_type": "code",
   "execution_count": 20,
   "id": "1fddc1ee-f638-44d0-a349-123271a8bfc7",
   "metadata": {},
   "outputs": [
    {
     "data": {
      "text/plain": [
       "'Al244Li12'"
      ]
     },
     "execution_count": 20,
     "metadata": {},
     "output_type": "execute_result"
    }
   ],
   "source": [
    "structure.get_chemical_formula()"
   ]
  },
  {
   "cell_type": "markdown",
   "id": "89567c43-55fd-451c-9fa6-64c9c0ad421c",
   "metadata": {},
   "source": [
    "Now we can continue the calculation as before"
   ]
  },
  {
   "cell_type": "code",
   "execution_count": 21,
   "id": "282de3fc-4871-4d9c-a8f3-d7252d31c9e5",
   "metadata": {},
   "outputs": [],
   "source": [
    "al_mix = pr.create.job.Calphy(\"AlLi_fcc\", \n",
    "                              delete_aborted_job=True, \n",
    "                              delete_existing_job=True)"
   ]
  },
  {
   "cell_type": "code",
   "execution_count": 22,
   "id": "fd029b22-8c87-4a9e-9a9a-7176b279d2ec",
   "metadata": {},
   "outputs": [],
   "source": [
    "al_mix.structure = structure\n",
    "al_mix.potential = 'AlLi-EAM'\n",
    "al_mix.input.equilibration_control = 'berendsen'\n",
    "al_mix.server.cores = 4\n",
    "al_mix.calc_free_energy(temperature=[600, 1000], \n",
    "                     pressure=0, \n",
    "                     reference_phase=\"solid\",\n",
    "                     n_equilibration_steps=5000,\n",
    "                     n_switching_steps=5000)"
   ]
  },
  {
   "cell_type": "code",
   "execution_count": 23,
   "id": "d60af14a-ed34-4880-ad8a-88c33f0d0360",
   "metadata": {
    "collapsed": true,
    "jupyter": {
     "outputs_hidden": true
    }
   },
   "outputs": [
    {
     "name": "stdout",
     "output_type": "stream",
     "text": [
      "The job AlLi_fcc was saved and received the ID: 8136\n"
     ]
    },
    {
     "name": "stderr",
     "output_type": "stream",
     "text": [
      "/home/menon/miniconda3/envs/potentials_v0.0.2/lib/python3.11/site-packages/ase/io/lammpsdata.py:49: FutureWarning: \"style\" is deprecated; please use \"atom_style\".\n",
      "  warnings.warn(\n",
      "--------------------------------------------------------------------------\n",
      "WARNING: Linux kernel CMA support was requested via the\n",
      "btl_vader_single_copy_mechanism MCA variable, but CMA support is\n",
      "not available due to restrictive ptrace settings.\n",
      "\n",
      "The vader shared memory BTL will fall back on another single-copy\n",
      "mechanism if one is available. This may result in lower performance.\n",
      "\n",
      "  Local host: cmleo26\n",
      "--------------------------------------------------------------------------\n",
      "[cmleo26:04557] 3 more processes have sent help message help-btl-vader.txt / cma-permission-denied\n",
      "[cmleo26:04557] Set MCA parameter \"orte_base_help_aggregate\" to 0 to see all help / error messages\n",
      "--------------------------------------------------------------------------\n",
      "WARNING: Linux kernel CMA support was requested via the\n",
      "btl_vader_single_copy_mechanism MCA variable, but CMA support is\n",
      "not available due to restrictive ptrace settings.\n",
      "\n",
      "The vader shared memory BTL will fall back on another single-copy\n",
      "mechanism if one is available. This may result in lower performance.\n",
      "\n",
      "  Local host: cmleo26\n",
      "--------------------------------------------------------------------------\n",
      "[cmleo26:04578] 3 more processes have sent help message help-btl-vader.txt / cma-permission-denied\n",
      "[cmleo26:04578] Set MCA parameter \"orte_base_help_aggregate\" to 0 to see all help / error messages\n",
      "--------------------------------------------------------------------------\n",
      "WARNING: Linux kernel CMA support was requested via the\n",
      "btl_vader_single_copy_mechanism MCA variable, but CMA support is\n",
      "not available due to restrictive ptrace settings.\n",
      "\n",
      "The vader shared memory BTL will fall back on another single-copy\n",
      "mechanism if one is available. This may result in lower performance.\n",
      "\n",
      "  Local host: cmleo26\n",
      "--------------------------------------------------------------------------\n",
      "[cmleo26:04600] 3 more processes have sent help message help-btl-vader.txt / cma-permission-denied\n",
      "[cmleo26:04600] Set MCA parameter \"orte_base_help_aggregate\" to 0 to see all help / error messages\n"
     ]
    },
    {
     "name": "stdout",
     "output_type": "stream",
     "text": [
      "Job 8136 is running!\n"
     ]
    },
    {
     "name": "stderr",
     "output_type": "stream",
     "text": [
      "/home/menon/miniconda3/envs/potentials_v0.0.2/lib/python3.11/site-packages/ase/io/lammpsdata.py:49: FutureWarning: \"style\" is deprecated; please use \"atom_style\".\n",
      "  warnings.warn(\n"
     ]
    }
   ],
   "source": [
    "al_mix.run()"
   ]
  },
  {
   "cell_type": "code",
   "execution_count": 24,
   "id": "972f713c-f1f0-48d7-9b97-564c60713a3b",
   "metadata": {},
   "outputs": [
    {
     "data": {
      "image/png": "[encoded data removed]",
      "text/plain": [
       "<Figure size 640x480 with 1 Axes>"
      ]
     },
     "metadata": {},
     "output_type": "display_data"
    }
   ],
   "source": [
    "plt.plot(al_sol.output.temperature, al_sol.output.energy_free,\n",
    "        label=\"Al100\", color='#C62828')\n",
    "plt.plot(al_mix.output.temperature, al_mix.output.energy_free,\n",
    "        label=\"Al95Li05\", color='#e57373')\n",
    "\n",
    "plt.xlabel(\"Temperature (K)\")\n",
    "plt.ylabel(\"Free energy (eV/K)\")\n",
    "plt.legend();"
   ]
  },
  {
   "cell_type": "markdown",
   "id": "47031ef0-f845-4e5c-ad83-1f924fb7ed10",
   "metadata": {},
   "source": [
    "Note that these calculations need to be performed for all set of phases. In this case that would be Al fcc, AlLi, liquid and Al3Li at various compositions. The structures for each of these can be extracted from the pyiron Jobs in notebooks for each potential. The further steps are also shown in these notebooks."
   ]
  }
 ],
 "metadata": {
  "kernelspec": {
   "display_name": "Python 3 (ipykernel)",
   "language": "python",
   "name": "python3"
  },
  "language_info": {
   "codemirror_mode": {
    "name": "ipython",
    "version": 3
   },
   "file_extension": ".py",
   "mimetype": "text/x-python",
   "name": "python",
   "nbconvert_exporter": "python",
   "pygments_lexer": "ipython3",
   "version": "3.11.6"
  }
 },
 "nbformat": 4,
 "nbformat_minor": 5
}
